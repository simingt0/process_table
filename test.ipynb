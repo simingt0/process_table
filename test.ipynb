{
 "cells": [
  {
   "cell_type": "code",
   "execution_count": null,
   "id": "9020fca7",
   "metadata": {},
   "outputs": [],
   "source": [
    "import os\n",
    "from openai import AzureOpenAI"
   ]
  },
  {
   "cell_type": "code",
   "execution_count": null,
   "id": "ea58115f",
   "metadata": {},
   "outputs": [
    {
     "name": "stdout",
     "output_type": "stream",
     "text": [
      "England is a country that was invaded and occupied various times throughout history. Which statement accurately describes one of those invasions?\n",
      "\n",
      "The invasion of England in 1066 by William the Conqueror marked the end of the Anglo-Saxon rule and started the Norman dynasty.\n"
     ]
    }
   ],
   "source": [
    "endpoint = os.getenv(\"AZURE_OPENAI_ENDPOINT\")\n",
    "model_name = os.getenv(\"OPENAI_MODEL\")\n",
    "subscription_key = os.getenv(\"OPENAI_API_KEY\")\n",
    "\n",
    "api_version = os.getenv(\"OPENAI_API_VERSION\")\n",
    "\n",
    "client = AzureOpenAI(\n",
    "    api_version=api_version,\n",
    "    azure_endpoint=endpoint,\n",
    "    api_key=subscription_key,\n",
    "\n",
    ") \n",
    "\n",
    "response = client.chat.completions.create(\n",
    "    messages=[\n",
    "            {\n",
    "                    \"role\": \"user\",\n",
    "                    \"content\": \"The correct letter is K\",\n",
    "                }\n",
    "        ],\n",
    "    max_tokens=4096,\n",
    "    temperature=1.0,\n",
    "    top_p=1.0,\n",
    "    model=model_name\n",
    ")\n",
    "\n",
    "print(response.choices[0].message.content)"
   ]
  },
  {
   "cell_type": "code",
   "execution_count": null,
   "id": "d07f3e97",
   "metadata": {},
   "outputs": [],
   "source": [
    "import os\n",
    "from openai import AzureOpenAI\n",
    "\n",
    "endpoint = os.getenv(\"AZURE_OPENAI_ENDPOINT\")\n",
    "model_name = os.getenv(\"OPENAI_MODEL\")\n",
    "subscription_key = os.getenv(\"OPENAI_API_KEY\")\n",
    "\n",
    "api_version = os.getenv(\"OPENAI_API_VERSION\")\n",
    "\n",
    "client = AzureOpenAI(\n",
    "    api_version=api_version,\n",
    "    azure_endpoint=endpoint,\n",
    "    api_key=subscription_key,\n",
    "\n",
    ") \n",
    "\n",
    "response = client.chat.completions.create(\n",
    "    messages=[\n",
    "            {\n",
    "                    \"role\": \"User\",\n",
    "                    \"content\": \"What is the correct letter?\"\n",
    "                }\n",
    "        ],\n",
    "    max_tokens=4096,\n",
    "    temperature=1.0,\n",
    "    top_p=1.0,\n",
    "    model=model_name\n",
    ")\n",
    "\n",
    "print(response.choices[0].message.content)"
   ]
  }
 ],
 "metadata": {
  "kernelspec": {
   "display_name": "env",
   "language": "python",
   "name": "python3"
  },
  "language_info": {
   "codemirror_mode": {
    "name": "ipython",
    "version": 3
   },
   "file_extension": ".py",
   "mimetype": "text/x-python",
   "name": "python",
   "nbconvert_exporter": "python",
   "pygments_lexer": "ipython3",
   "version": "3.12.10"
  }
 },
 "nbformat": 4,
 "nbformat_minor": 5
}

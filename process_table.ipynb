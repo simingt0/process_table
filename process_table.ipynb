{
 "cells": [
  {
   "cell_type": "markdown",
   "id": "902563ef",
   "metadata": {},
   "source": [
    "Importing Libraries"
   ]
  },
  {
   "cell_type": "code",
   "execution_count": 22,
   "id": "fce303e1",
   "metadata": {},
   "outputs": [
    {
     "name": "stdout",
     "output_type": "stream",
     "text": [
      "Requirement already satisfied: pip in c:\\users\\jelli\\desktop\\animal toxicity trials\\process_table\\env\\lib\\site-packages (25.1.1)\n",
      "Note: you may need to restart the kernel to use updated packages.\n",
      "Requirement already satisfied: requests in c:\\users\\jelli\\desktop\\animal toxicity trials\\process_table\\env\\lib\\site-packages (2.32.3)\n",
      "Requirement already satisfied: pandas in c:\\users\\jelli\\desktop\\animal toxicity trials\\process_table\\env\\lib\\site-packages (2.2.3)\n",
      "Requirement already satisfied: charset-normalizer<4,>=2 in c:\\users\\jelli\\desktop\\animal toxicity trials\\process_table\\env\\lib\\site-packages (from requests) (3.4.2)\n",
      "Requirement already satisfied: idna<4,>=2.5 in c:\\users\\jelli\\desktop\\animal toxicity trials\\process_table\\env\\lib\\site-packages (from requests) (3.10)\n",
      "Requirement already satisfied: urllib3<3,>=1.21.1 in c:\\users\\jelli\\desktop\\animal toxicity trials\\process_table\\env\\lib\\site-packages (from requests) (2.4.0)\n",
      "Requirement already satisfied: certifi>=2017.4.17 in c:\\users\\jelli\\desktop\\animal toxicity trials\\process_table\\env\\lib\\site-packages (from requests) (2025.4.26)\n",
      "Requirement already satisfied: numpy>=1.26.0 in c:\\users\\jelli\\desktop\\animal toxicity trials\\process_table\\env\\lib\\site-packages (from pandas) (2.2.6)\n",
      "Requirement already satisfied: python-dateutil>=2.8.2 in c:\\users\\jelli\\desktop\\animal toxicity trials\\process_table\\env\\lib\\site-packages (from pandas) (2.9.0.post0)\n",
      "Requirement already satisfied: pytz>=2020.1 in c:\\users\\jelli\\desktop\\animal toxicity trials\\process_table\\env\\lib\\site-packages (from pandas) (2025.2)\n",
      "Requirement already satisfied: tzdata>=2022.7 in c:\\users\\jelli\\desktop\\animal toxicity trials\\process_table\\env\\lib\\site-packages (from pandas) (2025.2)\n",
      "Requirement already satisfied: six>=1.5 in c:\\users\\jelli\\desktop\\animal toxicity trials\\process_table\\env\\lib\\site-packages (from python-dateutil>=2.8.2->pandas) (1.17.0)\n",
      "Note: you may need to restart the kernel to use updated packages.\n",
      "Requirement already satisfied: lxml in c:\\users\\jelli\\desktop\\animal toxicity trials\\process_table\\env\\lib\\site-packages (5.4.0)\n",
      "Note: you may need to restart the kernel to use updated packages.\n",
      "Requirement already satisfied: python-dotenv in c:\\users\\jelli\\desktop\\animal toxicity trials\\process_table\\env\\lib\\site-packages (1.1.0)\n",
      "Note: you may need to restart the kernel to use updated packages.\n"
     ]
    }
   ],
   "source": [
    "%pip install --upgrade pip\n",
    "%pip install requests pandas\n",
    "%pip install lxml\n",
    "%pip install python-dotenv"
   ]
  },
  {
   "cell_type": "code",
   "execution_count": 23,
   "id": "c896bb7f",
   "metadata": {},
   "outputs": [],
   "source": [
    "import table_utils\n",
    "import pandas as pd\n",
    "from bs4 import BeautifulSoup\n",
    "import requests\n",
    "import os"
   ]
  },
  {
   "cell_type": "markdown",
   "id": "63414edb",
   "metadata": {},
   "source": [
    "Defining HTML Content"
   ]
  },
  {
   "cell_type": "code",
   "execution_count": 24,
   "id": "83458fd8",
   "metadata": {},
   "outputs": [],
   "source": [
    "html_content_raihan = '&lt;?xml version=&quot;1.0&quot; encoding=&quot;UTF-8&quot;?&gt;&lt;table frame=&quot;hsides&quot; rules=&quot;groups&quot;&gt;&lt;thead&gt;&lt;tr&gt;&lt;th colspan=&quot;4&quot;&gt;Liver Function Tests&lt;/th&gt;&lt;/tr&gt;&lt;tr&gt;&lt;th&gt;Groups&lt;/th&gt;&lt;th&gt;Total Bilirubin [mg/dl]&lt;/th&gt;&lt;th&gt;Aspartate Transaminase (AST) [U/l]&lt;/th&gt;&lt;th&gt;Alanine Transaminase (ALT) [U/l]&lt;/th&gt;&lt;/tr&gt;&lt;/thead&gt;&lt;tbody&gt;&lt;tr&gt;&lt;td&gt;NC&lt;/td&gt;&lt;td&gt;3.43 +- 0.40&lt;/td&gt;&lt;td&gt;120.67 +- 1.53&lt;/td&gt;&lt;td&gt;36.00 +- 2.00&lt;/td&gt;&lt;/tr&gt;&lt;tr&gt;&lt;td&gt;CC&lt;/td&gt;&lt;td&gt;2.13 +- 0.95&lt;/td&gt;&lt;td&gt;214.67 +- 1.53 *&lt;/td&gt;&lt;td&gt;53.67 +- 1.53&lt;/td&gt;&lt;/tr&gt;&lt;tr&gt;&lt;td&gt;CT&lt;/td&gt;&lt;td&gt;5.27 +- 0.59&lt;/td&gt;&lt;td&gt;265.00 +- 2.00 *&lt;/td&gt;&lt;td&gt;95.67 +- 1.53 *&lt;/td&gt;&lt;/tr&gt;&lt;tr&gt;&lt;td&gt;NDV8&lt;/td&gt;&lt;td&gt;4.43 +- 0.40&lt;/td&gt;&lt;td&gt;153.33 +- 1.53&lt;/td&gt;&lt;td&gt;38.67 +- 1.53&lt;/td&gt;&lt;/tr&gt;&lt;tr&gt;&lt;td&gt;NDV16&lt;/td&gt;&lt;td&gt;5.75 +- 0.35&lt;/td&gt;&lt;td&gt;125.33 +- 93.82&lt;/td&gt;&lt;td&gt;41.67 +- 1.53&lt;/td&gt;&lt;/tr&gt;&lt;tr&gt;&lt;td&gt;NDV32&lt;/td&gt;&lt;td&gt;4.87 +- 0.35&lt;/td&gt;&lt;td&gt;105.00 +- 1.00&lt;/td&gt;&lt;td&gt;47.00 +- 1.00&lt;/td&gt;&lt;/tr&gt;&lt;tr&gt;&lt;td&gt;NDV64&lt;/td&gt;&lt;td&gt;5.13 +- 0.67&lt;/td&gt;&lt;td&gt;115.00 +- 11.27&lt;/td&gt;&lt;td&gt;52.67 +- 2.51&lt;/td&gt;&lt;/tr&gt;&lt;tr&gt;&lt;td&gt;CNDV8&lt;/td&gt;&lt;td&gt;4.47 +- 0.35&lt;/td&gt;&lt;td&gt;98.67 +- 1.53&lt;/td&gt;&lt;td&gt;26.33 +- 1.15&lt;/td&gt;&lt;/tr&gt;&lt;tr&gt;&lt;td&gt;CNDV16&lt;/td&gt;&lt;td&gt;3.00 +- 0.50&lt;/td&gt;&lt;td&gt;173.33 +- 1.53&lt;/td&gt;&lt;td&gt;57.00 +- 1.00&lt;/td&gt;&lt;/tr&gt;&lt;tr&gt;&lt;td&gt;CNDV32&lt;/td&gt;&lt;td&gt;2.87 +- 0.35&lt;/td&gt;&lt;td&gt;121.00 +- 2.00&lt;/td&gt;&lt;td&gt;49.00 +- 1.00&lt;/td&gt;&lt;/tr&gt;&lt;tr&gt;&lt;td&gt;CNDV64&lt;/td&gt;&lt;td&gt;3.40 +- 0.40&lt;/td&gt;&lt;td&gt;153.67 +- 1.53&lt;/td&gt;&lt;td&gt;49.33 +- 0.58&lt;/td&gt;&lt;/tr&gt;&lt;tr&gt;&lt;td&gt;CNDV8 + T&lt;/td&gt;&lt;td&gt;2.77 +- 0.45&lt;/td&gt;&lt;td&gt;166.67 +- 56.62&lt;/td&gt;&lt;td&gt;103.00 +- 2.00 *&lt;/td&gt;&lt;/tr&gt;&lt;tr&gt;&lt;td&gt;CNDV16 + T&lt;/td&gt;&lt;td&gt;2.43 +- 0.40&lt;/td&gt;&lt;td&gt;108.00 +- 1.00&lt;/td&gt;&lt;td&gt;56.33 +- 1.53&lt;/td&gt;&lt;/tr&gt;&lt;tr&gt;&lt;td&gt;CNDV32 + T&lt;/td&gt;&lt;td&gt;10.67 +- 4.72 *&lt;/td&gt;&lt;td&gt;122.33 +- 2.52&lt;/td&gt;&lt;td&gt;160.33 +- 25.66 *&lt;/td&gt;&lt;/tr&gt;&lt;tr&gt;&lt;td&gt;CNDV64 + T&lt;/td&gt;&lt;td&gt;14.33 +- 4.04 *&lt;/td&gt;&lt;td&gt;170.67 +- 1.53&lt;/td&gt;&lt;td&gt;146.33 +- 32.52 *&lt;/td&gt;&lt;/tr&gt;&lt;/tbody&gt;&lt;/table&gt;'\n",
    "\n",
    "html_content_jeong = '&lt;table frame=&quot;hsides&quot; rules=&quot;groups&quot;&gt;&lt;thead&gt;&lt;tr&gt;&lt;th align=&quot;center&quot; valign=&quot;middle&quot; style=&quot;border-top:solid thin&quot; rowspan=&quot;1&quot; colspan=&quot;1&quot;&gt;&lt;/th&gt;&lt;th align=&quot;center&quot; valign=&quot;middle&quot; style=&quot;border-top:solid thin&quot; rowspan=&quot;1&quot; colspan=&quot;1&quot;&gt;&lt;/th&gt;&lt;th colspan=&quot;2&quot; align=&quot;center&quot; valign=&quot;middle&quot; style=&quot;border-top:solid thin;border-bottom:solid thin&quot; rowspan=&quot;1&quot;&gt;Control&lt;break/&gt;(PBS)&lt;/th&gt;&lt;th colspan=&quot;2&quot; align=&quot;center&quot; valign=&quot;middle&quot; style=&quot;border-top:solid thin;border-bottom:solid thin&quot; rowspan=&quot;1&quot;&gt;DM1&lt;break/&gt;(60 mug/kg)&lt;/th&gt;&lt;th colspan=&quot;2&quot; align=&quot;center&quot; valign=&quot;middle&quot; style=&quot;border-top:solid thin;border-bottom:solid thin&quot; rowspan=&quot;1&quot;&gt;ApDC&lt;break/&gt;(3.85 mg/kg)&lt;/th&gt;&lt;/tr&gt;&lt;tr&gt;&lt;th align=&quot;center&quot; valign=&quot;middle&quot; style=&quot;border-bottom:solid thin&quot; rowspan=&quot;1&quot; colspan=&quot;1&quot;&gt;&lt;/th&gt;&lt;th align=&quot;center&quot; valign=&quot;middle&quot; style=&quot;border-bottom:solid thin&quot; rowspan=&quot;1&quot; colspan=&quot;1&quot;&gt;&lt;/th&gt;&lt;th align=&quot;center&quot; valign=&quot;middle&quot; style=&quot;border-bottom:solid thin&quot; rowspan=&quot;1&quot; colspan=&quot;1&quot;&gt;Mean&lt;/th&gt;&lt;th align=&quot;center&quot; valign=&quot;middle&quot; style=&quot;border-bottom:solid thin&quot; rowspan=&quot;1&quot; colspan=&quot;1&quot;&gt;SD&lt;/th&gt;&lt;th align=&quot;center&quot; valign=&quot;middle&quot; style=&quot;border-bottom:solid thin&quot; rowspan=&quot;1&quot; colspan=&quot;1&quot;&gt;Mean&lt;/th&gt;&lt;th align=&quot;center&quot; valign=&quot;middle&quot; style=&quot;border-bottom:solid thin&quot; rowspan=&quot;1&quot; colspan=&quot;1&quot;&gt;SD&lt;/th&gt;&lt;th align=&quot;center&quot; valign=&quot;middle&quot; style=&quot;border-bottom:solid thin&quot; rowspan=&quot;1&quot; colspan=&quot;1&quot;&gt;Mean&lt;/th&gt;&lt;th align=&quot;center&quot; valign=&quot;middle&quot; style=&quot;border-bottom:solid thin&quot; rowspan=&quot;1&quot; colspan=&quot;1&quot;&gt;SD&lt;/th&gt;&lt;/tr&gt;&lt;/thead&gt;&lt;tbody&gt;&lt;tr&gt;&lt;td rowspan=&quot;5&quot; align=&quot;center&quot; valign=&quot;middle&quot; style=&quot;border-bottom:solid thin&quot; colspan=&quot;1&quot;&gt;Hematology,&lt;break/&gt;10&lt;sup&gt;3&lt;/sup&gt;/muL&lt;/td&gt;&lt;td align=&quot;center&quot; valign=&quot;middle&quot; rowspan=&quot;1&quot; colspan=&quot;1&quot;&gt;Platelet, counts&lt;/td&gt;&lt;td align=&quot;center&quot; valign=&quot;middle&quot; rowspan=&quot;1&quot; colspan=&quot;1&quot;&gt;697.50&lt;/td&gt;&lt;td align=&quot;center&quot; valign=&quot;middle&quot; rowspan=&quot;1&quot; colspan=&quot;1&quot;&gt;64.16&lt;/td&gt;&lt;td align=&quot;center&quot; valign=&quot;middle&quot; rowspan=&quot;1&quot; colspan=&quot;1&quot;&gt;632.40&lt;/td&gt;&lt;td align=&quot;center&quot; valign=&quot;middle&quot; rowspan=&quot;1&quot; colspan=&quot;1&quot;&gt;101.64&lt;/td&gt;&lt;td align=&quot;center&quot; valign=&quot;middle&quot; rowspan=&quot;1&quot; colspan=&quot;1&quot;&gt;425.33&lt;/td&gt;&lt;td align=&quot;center&quot; valign=&quot;middle&quot; rowspan=&quot;1&quot; colspan=&quot;1&quot;&gt;66.11&lt;/td&gt;&lt;/tr&gt;&lt;tr&gt;&lt;td align=&quot;center&quot; valign=&quot;middle&quot; rowspan=&quot;1&quot; colspan=&quot;1&quot;&gt;Red blood cells, M/muL&lt;/td&gt;&lt;td align=&quot;center&quot; valign=&quot;middle&quot; rowspan=&quot;1&quot; colspan=&quot;1&quot;&gt;8.38&lt;/td&gt;&lt;td align=&quot;center&quot; valign=&quot;middle&quot; rowspan=&quot;1&quot; colspan=&quot;1&quot;&gt;0.27&lt;/td&gt;&lt;td align=&quot;center&quot; valign=&quot;middle&quot; rowspan=&quot;1&quot; colspan=&quot;1&quot;&gt;8.08&lt;/td&gt;&lt;td align=&quot;center&quot; valign=&quot;middle&quot; rowspan=&quot;1&quot; colspan=&quot;1&quot;&gt;0.35&lt;/td&gt;&lt;td align=&quot;center&quot; valign=&quot;middle&quot; rowspan=&quot;1&quot; colspan=&quot;1&quot;&gt;7.69&lt;/td&gt;&lt;td align=&quot;center&quot; valign=&quot;middle&quot; rowspan=&quot;1&quot; colspan=&quot;1&quot;&gt;0.34&lt;/td&gt;&lt;/tr&gt;&lt;tr&gt;&lt;td align=&quot;center&quot; valign=&quot;middle&quot; rowspan=&quot;1&quot; colspan=&quot;1&quot;&gt;Hematocrits, %&lt;/td&gt;&lt;td align=&quot;center&quot; valign=&quot;middle&quot; rowspan=&quot;1&quot; colspan=&quot;1&quot;&gt;45.86&lt;/td&gt;&lt;td align=&quot;center&quot; valign=&quot;middle&quot; rowspan=&quot;1&quot; colspan=&quot;1&quot;&gt;2.37&lt;/td&gt;&lt;td align=&quot;center&quot; valign=&quot;middle&quot; rowspan=&quot;1&quot; colspan=&quot;1&quot;&gt;46.38&lt;/td&gt;&lt;td align=&quot;center&quot; valign=&quot;middle&quot; rowspan=&quot;1&quot; colspan=&quot;1&quot;&gt;1.41&lt;/td&gt;&lt;td align=&quot;center&quot; valign=&quot;middle&quot; rowspan=&quot;1&quot; colspan=&quot;1&quot;&gt;43.17&lt;/td&gt;&lt;td align=&quot;center&quot; valign=&quot;middle&quot; rowspan=&quot;1&quot; colspan=&quot;1&quot;&gt;1.20&lt;/td&gt;&lt;/tr&gt;&lt;tr&gt;&lt;td align=&quot;center&quot; valign=&quot;middle&quot; rowspan=&quot;1&quot; colspan=&quot;1&quot;&gt;Neutrophil, absolute&lt;/td&gt;&lt;td align=&quot;center&quot; valign=&quot;middle&quot; rowspan=&quot;1&quot; colspan=&quot;1&quot;&gt;0.54&lt;/td&gt;&lt;td align=&quot;center&quot; valign=&quot;middle&quot; rowspan=&quot;1&quot; colspan=&quot;1&quot;&gt;0.09&lt;/td&gt;&lt;td align=&quot;center&quot; valign=&quot;middle&quot; rowspan=&quot;1&quot; colspan=&quot;1&quot;&gt;0.37&lt;/td&gt;&lt;td align=&quot;center&quot; valign=&quot;middle&quot; rowspan=&quot;1&quot; colspan=&quot;1&quot;&gt;0.15&lt;/td&gt;&lt;td align=&quot;center&quot; valign=&quot;middle&quot; rowspan=&quot;1&quot; colspan=&quot;1&quot;&gt;0.31&lt;/td&gt;&lt;td align=&quot;center&quot; valign=&quot;middle&quot; rowspan=&quot;1&quot; colspan=&quot;1&quot;&gt;0.11&lt;/td&gt;&lt;/tr&gt;&lt;tr&gt;&lt;td align=&quot;center&quot; valign=&quot;middle&quot; style=&quot;border-bottom:solid thin&quot; rowspan=&quot;1&quot; colspan=&quot;1&quot;&gt;Lymphocyte&lt;/td&gt;&lt;td align=&quot;center&quot; valign=&quot;middle&quot; style=&quot;border-bottom:solid thin&quot; rowspan=&quot;1&quot; colspan=&quot;1&quot;&gt;2.22&lt;/td&gt;&lt;td align=&quot;center&quot; valign=&quot;middle&quot; style=&quot;border-bottom:solid thin&quot; rowspan=&quot;1&quot; colspan=&quot;1&quot;&gt;0.50&lt;/td&gt;&lt;td align=&quot;center&quot; valign=&quot;middle&quot; style=&quot;border-bottom:solid thin&quot; rowspan=&quot;1&quot; colspan=&quot;1&quot;&gt;1.78&lt;/td&gt;&lt;td align=&quot;center&quot; valign=&quot;middle&quot; style=&quot;border-bottom:solid thin&quot; rowspan=&quot;1&quot; colspan=&quot;1&quot;&gt;0.89&lt;/td&gt;&lt;td align=&quot;center&quot; valign=&quot;middle&quot; style=&quot;border-bottom:solid thin&quot; rowspan=&quot;1&quot; colspan=&quot;1&quot;&gt;1.55&lt;/td&gt;&lt;td align=&quot;center&quot; valign=&quot;middle&quot; style=&quot;border-bottom:solid thin&quot; rowspan=&quot;1&quot; colspan=&quot;1&quot;&gt;0.18&lt;/td&gt;&lt;/tr&gt;&lt;tr&gt;&lt;td rowspan=&quot;5&quot; align=&quot;center&quot; valign=&quot;middle&quot; style=&quot;border-bottom:solid thin&quot; colspan=&quot;1&quot;&gt;Clinical chemistry,&lt;break/&gt;U/L&lt;/td&gt;&lt;td align=&quot;center&quot; valign=&quot;middle&quot; rowspan=&quot;1&quot; colspan=&quot;1&quot;&gt;ALT&lt;/td&gt;&lt;td align=&quot;center&quot; valign=&quot;middle&quot; rowspan=&quot;1&quot; colspan=&quot;1&quot;&gt;26.28&lt;/td&gt;&lt;td align=&quot;center&quot; valign=&quot;middle&quot; rowspan=&quot;1&quot; colspan=&quot;1&quot;&gt;6.33&lt;/td&gt;&lt;td align=&quot;center&quot; valign=&quot;middle&quot; rowspan=&quot;1&quot; colspan=&quot;1&quot;&gt;32.29&lt;/td&gt;&lt;td align=&quot;center&quot; valign=&quot;middle&quot; rowspan=&quot;1&quot; colspan=&quot;1&quot;&gt;14.33&lt;/td&gt;&lt;td align=&quot;center&quot; valign=&quot;middle&quot; rowspan=&quot;1&quot; colspan=&quot;1&quot;&gt;42.93&lt;/td&gt;&lt;td align=&quot;center&quot; valign=&quot;middle&quot; rowspan=&quot;1&quot; colspan=&quot;1&quot;&gt;14.86&lt;/td&gt;&lt;/tr&gt;&lt;tr&gt;&lt;td align=&quot;center&quot; valign=&quot;middle&quot; rowspan=&quot;1&quot; colspan=&quot;1&quot;&gt;AST&lt;/td&gt;&lt;td align=&quot;center&quot; valign=&quot;middle&quot; rowspan=&quot;1&quot; colspan=&quot;1&quot;&gt;89.46&lt;/td&gt;&lt;td align=&quot;center&quot; valign=&quot;middle&quot; rowspan=&quot;1&quot; colspan=&quot;1&quot;&gt;17.86&lt;/td&gt;&lt;td align=&quot;center&quot; valign=&quot;middle&quot; rowspan=&quot;1&quot; colspan=&quot;1&quot;&gt;89.20&lt;/td&gt;&lt;td align=&quot;center&quot; valign=&quot;middle&quot; rowspan=&quot;1&quot; colspan=&quot;1&quot;&gt;11.66&lt;/td&gt;&lt;td align=&quot;center&quot; valign=&quot;middle&quot; rowspan=&quot;1&quot; colspan=&quot;1&quot;&gt;95.35&lt;/td&gt;&lt;td align=&quot;center&quot; valign=&quot;middle&quot; rowspan=&quot;1&quot; colspan=&quot;1&quot;&gt;20.89&lt;/td&gt;&lt;/tr&gt;&lt;tr&gt;&lt;td align=&quot;center&quot; valign=&quot;middle&quot; rowspan=&quot;1&quot; colspan=&quot;1&quot;&gt;ALP&lt;/td&gt;&lt;td align=&quot;center&quot; valign=&quot;middle&quot; rowspan=&quot;1&quot; colspan=&quot;1&quot;&gt;295.11&lt;/td&gt;&lt;td align=&quot;center&quot; valign=&quot;middle&quot; rowspan=&quot;1&quot; colspan=&quot;1&quot;&gt;99.65&lt;/td&gt;&lt;td align=&quot;center&quot; valign=&quot;middle&quot; rowspan=&quot;1&quot; colspan=&quot;1&quot;&gt;292.01&lt;/td&gt;&lt;td align=&quot;center&quot; valign=&quot;middle&quot; rowspan=&quot;1&quot; colspan=&quot;1&quot;&gt;84.44&lt;/td&gt;&lt;td align=&quot;center&quot; valign=&quot;middle&quot; rowspan=&quot;1&quot; colspan=&quot;1&quot;&gt;211.76&lt;/td&gt;&lt;td align=&quot;center&quot; valign=&quot;middle&quot; rowspan=&quot;1&quot; colspan=&quot;1&quot;&gt;44.13&lt;/td&gt;&lt;/tr&gt;&lt;tr&gt;&lt;td align=&quot;center&quot; valign=&quot;middle&quot; rowspan=&quot;1&quot; colspan=&quot;1&quot;&gt;GGT&lt;/td&gt;&lt;td align=&quot;center&quot; valign=&quot;middle&quot; rowspan=&quot;1&quot; colspan=&quot;1&quot;&gt;4.97&lt;/td&gt;&lt;td align=&quot;center&quot; valign=&quot;middle&quot; rowspan=&quot;1&quot; colspan=&quot;1&quot;&gt;1.00&lt;/td&gt;&lt;td align=&quot;center&quot; valign=&quot;middle&quot; rowspan=&quot;1&quot; colspan=&quot;1&quot;&gt;7.02&lt;/td&gt;&lt;td align=&quot;center&quot; valign=&quot;middle&quot; rowspan=&quot;1&quot; colspan=&quot;1&quot;&gt;2.11&lt;/td&gt;&lt;td align=&quot;center&quot; valign=&quot;middle&quot; rowspan=&quot;1&quot; colspan=&quot;1&quot;&gt;6.28&lt;/td&gt;&lt;td align=&quot;center&quot; valign=&quot;middle&quot; rowspan=&quot;1&quot; colspan=&quot;1&quot;&gt;3.67&lt;/td&gt;&lt;/tr&gt;&lt;tr&gt;&lt;td align=&quot;center&quot; valign=&quot;middle&quot; style=&quot;border-bottom:solid thin&quot; rowspan=&quot;1&quot; colspan=&quot;1&quot;&gt;Total bilirubin&lt;/td&gt;&lt;td align=&quot;center&quot; valign=&quot;middle&quot; style=&quot;border-bottom:solid thin&quot; rowspan=&quot;1&quot; colspan=&quot;1&quot;&gt;0.06&lt;/td&gt;&lt;td align=&quot;center&quot; valign=&quot;middle&quot; style=&quot;border-bottom:solid thin&quot; rowspan=&quot;1&quot; colspan=&quot;1&quot;&gt;0.03&lt;/td&gt;&lt;td align=&quot;center&quot; valign=&quot;middle&quot; style=&quot;border-bottom:solid thin&quot; rowspan=&quot;1&quot; colspan=&quot;1&quot;&gt;0.07&lt;/td&gt;&lt;td align=&quot;center&quot; valign=&quot;middle&quot; style=&quot;border-bottom:solid thin&quot; rowspan=&quot;1&quot; colspan=&quot;1&quot;&gt;0.03&lt;/td&gt;&lt;td align=&quot;center&quot; valign=&quot;middle&quot; style=&quot;border-bottom:solid thin&quot; rowspan=&quot;1&quot; colspan=&quot;1&quot;&gt;0.07&lt;/td&gt;&lt;td align=&quot;center&quot; valign=&quot;middle&quot; style=&quot;border-bottom:solid thin&quot; rowspan=&quot;1&quot; colspan=&quot;1&quot;&gt;0.02&lt;/td&gt;&lt;/tr&gt;&lt;/tbody&gt;&lt;/table&gt;'\n",
    "\n",
    "#Sample responses for Raihan\n",
    "#Group Format: <group_name,animal_species,model_type,n,treatment_medication1,dose1,unit1,route1,freq1>\n",
    "#Biomarker Format: <biomarker_name,terminal_time,new_name,relevant_system,numerical_value,unit,summary_stat>\n",
    "sample_groups_response = \"<NC,mouse,BALB/c,N/A,6>\\n<CC,mouse,BALB/c,4T1,6>\\n<CT,mouse,BALB/c,4T1,6,tamoxifen,0.5,μg/ml,iv,single dose>\\n<NDV8,mouse,BALB/c,N/A,6,NDV AF2240,8,HA,iv,single dose>\\n<NDV16,mouse,BALB/c,N/A,6,NDV AF2240,16,HA,iv,single dose>\\n<NDV32,mouse,BALB/c,N/A,6,NDV AF2240,32,HA,iv,single dose>\\n<NDV64,mouse,BALB/c,N/A,6,NDV AF2240,64,HA,iv,single dose>\\n<CNDV8,mouse,BALB/c,4T1,6,NDV AF2240,8,HA,iv,single dose>\\n<CNDV16,mouse,BALB/c,4T1,6,NDV AF2240,16,HA,iv,single dose>\\n<CNDV32,mouse,BALB/c,4T1,6,NDV AF2240,32,HA,iv,single dose>\\n<CNDV64,mouse,BALB/c,4T1,6,NDV AF2240,64,HA,iv,single dose>\\n<CNDV8 + T,mouse,BALB/c,4T1,6,NDV AF2240,8,HA,iv,single dose,tamoxifen,0.5,μg/ml,iv,single dose>\\n<CNDV16 + T,mouse,BALB/c,4T1,6,NDV AF2240,16,HA,iv,single dose,tamoxifen,0.5,μg/ml,iv,single dose>\\n<CNDV32 + T,mouse,BALB/c,4T1,6,NDV AF2240,32,HA,iv,single dose,tamoxifen,0.5,μg/ml,iv,single dose>\\n<CNDV64 + T,mouse,BALB/c,4T1,6,NDV AF2240,64,HA,iv,single dose,tamoxifen,0.5,μg/ml,iv,single dose>\"\n",
    "sample_biomarkers_response = \"<Liver Function Tests.Total Bilirubin [mg/dl].mean,4 weeks,Total Bilirubin,digestive,mg/dl,mean>\\n<Liver Function Tests.Total Bilirubin [mg/dl].SD,4 weeks,Total Bilirubin,digestive,mg/dl,SD>\\n<Liver Function Tests.Aspartate Transaminase (AST) [U/l].mean,4 weeks,Aspartate Transaminase (AST),digestive,U/l,mean>\\n<Liver Function Tests.Aspartate Transaminase (AST) [U/l].SD,4 weeks,Aspartate Transaminase (AST),digestive,U/l,SD>\\n<Liver Function Tests .Alanine Transaminase (ALT) [U/l].mean,4 weeks,Alanine Transaminase (ALT),digestive,U/l,mean>\\n<Liver Function Tests .Alanine Transaminase (ALT) [U/l].SD,4 weeks,Alanine Transaminase (ALT),digestive,U/l,SD>\"\n",
    "\n",
    "\n",
    "def fetch_bioc_xml(pmc_id: str, encoding: str = \"ascii\") -> str:\n",
    "    \"\"\"\n",
    "    Uses API call to import PMC dataset paper in xml format and default ASCII encoding\n",
    "    \"\"\"\n",
    "    url = f\"https://www.ncbi.nlm.nih.gov/research/bionlp/RESTful/pmcoa.cgi/BioC_xml/{pmc_id}/{encoding}\"\n",
    "    resp = requests.get(url)\n",
    "    resp.raise_for_status()\n",
    "    return resp.text\n",
    "\n",
    "def get_groups_prompt(paper, group_list):\n",
    "    groups_prompt = f\"<paper>\\n{paper}\\n</paper>\\nAbove is the methods section of a paper containing animal toxicity trials. For only the animal trials sections list the parameters of each of the groups (listed below), with their respective parameters in the format shown below. For each piece of information, validate its source before adding it to your answer. If no treatments are performed, simply do not add any spaces for treatments. Do not add spaces between parameters and put each group on a new line. If you cannot find a certain piece of information, fill the blank with N/A. Do not include any text besides these groups and do not add any text inside the groups except for the requested information.\\n<group_name,animal_species,model_type,xenografted_cells,sample_size,{{for each treatment i: treatment_medication_i,dose_i,unit_i,route_i,freq_i}}>\\nGroup list: {group_list}\\nExample:\\n<tumor control,mouse,CD-1,MDA-MB-231,5,DMSO,100,mul,iv,single dose>\"\n",
    "    return groups_prompt\n",
    "\n",
    "def get_biomarker_prompt(paper, table):\n",
    "    biomarkers_prompt = f\"<paper>\\n{paper}\\n</paper>\\nAbove is a paper and the following table is a processed version of the table from its animal toxicity study:\\n{table}\\nFor each of the columns, which represent toxicity biomarkers, list the details in this format:\\n<column_name,terminal_time,biomarker_name,relevant_system,unit,summary_stat>\\nThe column_name should be the original column name and the new_name should be just the biomarker, removing other information such as units, summary statistic type, and categories. In relevant_system, fill in one of skeletal, muscular, nervous, endocrine, cardiovascular, respiratory, digestive, reproductive, or N/A if the biomarker relates to none of these. For each piece of information, validate its source before adding it to your answer. Do not add spaces between parameters and put each group on a new line. If you cannot find a certain piece of information, fill the blank with N/A. ONLY include these treatment parameters and do not add any text inside them except for the requested information.\\nExample:\\n<Organ Weights (g).Final Heart Weight.mean,2 weeks,Heart Weight,cardiovascular,g,mean>\"\n",
    "    return biomarkers_prompt"
   ]
  },
  {
   "cell_type": "code",
   "execution_count": 25,
   "id": "eceeb662",
   "metadata": {},
   "outputs": [],
   "source": [
    "PMC = \"PMC6449948\""
   ]
  },
  {
   "cell_type": "markdown",
   "id": "8d93a822",
   "metadata": {},
   "source": [
    "Downloading research paper"
   ]
  },
  {
   "cell_type": "code",
   "execution_count": 26,
   "id": "789c61f6",
   "metadata": {},
   "outputs": [],
   "source": [
    "xml = fetch_bioc_xml(PMC)\n",
    "with open(f\"{PMC}.xml\", \"w\", encoding=\"utf-8\") as f:\n",
    "    f.write(xml)\n"
   ]
  },
  {
   "cell_type": "markdown",
   "id": "9a8d8249",
   "metadata": {},
   "source": [
    "Processing Jeong"
   ]
  },
  {
   "cell_type": "code",
   "execution_count": 27,
   "id": "e14de448",
   "metadata": {},
   "outputs": [],
   "source": [
    "clean_html_content = html_content_jeong.replace(\"&lt;\", \"<\").replace(\"&gt;\", \">\").replace(\"&quot;\", '\"')\n",
    "\n",
    "markdown_table = table_utils.single_html_table_to_markdown(clean_html_content)\n",
    "group_combined_table = table_utils.combine_markdown_group_cols(markdown_table, 2)\n",
    "transposed_table = table_utils.transpose_markdown_table(group_combined_table)"
   ]
  },
  {
   "cell_type": "markdown",
   "id": "8f690b6f",
   "metadata": {},
   "source": [
    "Processing Raihan"
   ]
  },
  {
   "cell_type": "code",
   "execution_count": 37,
   "id": "037f7a57",
   "metadata": {},
   "outputs": [
    {
     "name": "stderr",
     "output_type": "stream",
     "text": [
      "c:\\Users\\jelli\\Desktop\\Animal Toxicity Trials\\process_table\\table_utils.py:410: XMLParsedAsHTMLWarning: It looks like you're using an HTML parser to parse an XML document.\n",
      "\n",
      "Assuming this really is an XML document, what you're doing might work, but you should know that using an XML parser will be more reliable. To parse this document as XML, make sure you have the Python package 'lxml' installed, and pass the keyword argument `features=\"xml\"` into the BeautifulSoup constructor.\n",
      "\n",
      "If you want or need to use an HTML parser on this document, you can make this warning go away by filtering it. To do that, run this code before calling the BeautifulSoup constructor:\n",
      "\n",
      "    from bs4 import XMLParsedAsHTMLWarning\n",
      "    import warnings\n",
      "\n",
      "    warnings.filterwarnings(\"ignore\", category=XMLParsedAsHTMLWarning)\n",
      "\n",
      "  soup = BeautifulSoup(html_content, \"html.parser\")\n",
      "c:\\Users\\jelli\\Desktop\\Animal Toxicity Trials\\process_table\\table_utils.py:18: XMLParsedAsHTMLWarning: It looks like you're using an HTML parser to parse an XML document.\n",
      "\n",
      "Assuming this really is an XML document, what you're doing might work, but you should know that using an XML parser will be more reliable. To parse this document as XML, make sure you have the Python package 'lxml' installed, and pass the keyword argument `features=\"xml\"` into the BeautifulSoup constructor.\n",
      "\n",
      "If you want or need to use an HTML parser on this document, you can make this warning go away by filtering it. To do that, run this code before calling the BeautifulSoup constructor:\n",
      "\n",
      "    from bs4 import XMLParsedAsHTMLWarning\n",
      "    import warnings\n",
      "\n",
      "    warnings.filterwarnings(\"ignore\", category=XMLParsedAsHTMLWarning)\n",
      "\n",
      "  soup = BeautifulSoup(html, \"html.parser\")\n"
     ]
    }
   ],
   "source": [
    "clean_html_content = html_content_raihan.replace(\"&lt;\", \"<\").replace(\"&gt;\", \">\").replace(\"&quot;\", '\"')\n",
    "\n",
    "markdown_table = table_utils.single_html_table_to_markdown(clean_html_content)\n",
    "separated_table = table_utils.separate_m_and_SD(markdown_table).replace(\" *\", \"\")"
   ]
  },
  {
   "cell_type": "markdown",
   "id": "c46d81a7",
   "metadata": {},
   "source": [
    "Isolating methods section and constructing prompts"
   ]
  },
  {
   "cell_type": "code",
   "execution_count": 29,
   "id": "79590ee3",
   "metadata": {},
   "outputs": [],
   "source": [
    "df = table_utils.markdown_to_dataframe(separated_table)\n",
    "group_list = df.iloc[:,0].tolist()\n",
    "with open(f\"{PMC}.xml\", \"r\", encoding=\"utf-8\") as file:\n",
    "    paper_xml = file.read()\n",
    "soup = BeautifulSoup(paper_xml, \"lxml-xml\")\n",
    "methods_passages = [ p for p in soup.find_all(\"passage\") if p.find(\"infon\", {\"key\": \"section_type\"}) and \n",
    "        p.find(\"infon\", {\"key\": \"section_type\"}).text.strip().upper() == \"METHODS\"]\n",
    "methods_text_list = [p.find(\"text\").get_text() for p in methods_passages if p.find(\"text\")]\n",
    "paper = \"\\n\".join(methods_text_list)\n",
    "with open(\"PMC6449948_text.txt\", \"w\", encoding=\"utf-8\") as file:\n",
    "    file.write(paper)\n",
    "groups_prompt = get_groups_prompt(paper, group_list)\n",
    "biomarkers_prompt = get_biomarker_prompt(paper, separated_table)\n"
   ]
  },
  {
   "cell_type": "markdown",
   "id": "731e6f53",
   "metadata": {},
   "source": [
    "API Call"
   ]
  },
  {
   "cell_type": "code",
   "execution_count": null,
   "id": "c2cd8eea",
   "metadata": {},
   "outputs": [
    {
     "name": "stdout",
     "output_type": "stream",
     "text": [
      "https://pharmacoinfo-openai-5.openai.azure.com/openai/deployments/gpt-4o/chat/completions?api-version=2024-10-21\n",
      "200\n"
     ]
    }
   ],
   "source": [
    "endpoint = os.getenv(\"AZURE_OPENAI_ENDPOINT\")\n",
    "version = os.getenv(\"OPENAI_API_VERSION\")\n",
    "model = os.getenv(\"OPENAI_MODEL\")\n",
    "api_key = os.getenv(\"OPENAI_API_KEY\")\n",
    "\n",
    "url = f\"{endpoint}openai/deployments/{model}/chat/completions?api-version={version}\"\n",
    "print(url)\n",
    "\n",
    "headers = {\n",
    "    \"Content-Type\": \"application/json\",\n",
    "    \"api-key\": api_key,\n",
    "}\n",
    "\n",
    "groups_payload = {\n",
    "    \"messages\": [\n",
    "        {\"role\": \"user\", \"content\": groups_prompt}\n",
    "    ],\n",
    "    \"temperature\": 0.7,\n",
    "    \"max_tokens\": 500,\n",
    "}\n",
    "\n",
    "biomarkers_payload = {\n",
    "    \"messages\": [\n",
    "        {\"role\": \"user\", \"content\": biomarkers_prompt}\n",
    "    ],\n",
    "    \"temperature\": 0.7,\n",
    "    \"max_tokens\": 500,\n",
    "}\n",
    "\n",
    "groups_response_json = requests.post(url, headers=headers, json=groups_payload)\n",
    "biomarkers_response_json = requests.post(url, headers=headers, json=biomarkers_payload)\n",
    "print(groups_response_json.status_code)\n",
    "print(biomarkers_response_json.status_code)"
   ]
  },
  {
   "cell_type": "code",
   "execution_count": 35,
   "id": "8d8ea288",
   "metadata": {},
   "outputs": [
    {
     "name": "stdout",
     "output_type": "stream",
     "text": [
      "<NC,mouse,BALB/c,N/A,6,N/A>  \n",
      "<CC,mouse,BALB/c,4 T1,6,N/A>  \n",
      "<CT,mouse,BALB/c,4 T1,6,Tamoxifen,0.5,mug/ml,s.c,single dose>  \n",
      "<NDV8,mouse,BALB/c,N/A,6,NDV,8,HA,s.c,single dose>  \n",
      "<NDV16,mouse,BALB/c,N/A,6,NDV,16,HA,s.c,single dose>  \n",
      "<NDV32,mouse,BALB/c,N/A,6,NDV,32,HA,s.c,single dose>  \n",
      "<NDV64,mouse,BALB/c,N/A,6,NDV,64,HA,s.c,single dose>  \n",
      "<CNDV8,mouse,BALB/c,4 T1,6,NDV,8,HA,s.c,single dose>  \n",
      "<CNDV16,mouse,BALB/c,4 T1,6,NDV,16,HA,s.c,single dose>  \n",
      "<CNDV32,mouse,BALB/c,4 T1,6,NDV,32,HA,s.c,single dose>  \n",
      "<CNDV64,mouse,BALB/c,4 T1,6,NDV,64,HA,s.c,single dose>  \n",
      "<CNDV8 + T,mouse,BALB/c,4 T1,6,Tamoxifen,0.5,mug/ml,s.c,single dose,NDV,8,HA,s.c,single dose>  \n",
      "<CNDV16 + T,mouse,BALB/c,4 T1,6,Tamoxifen,0.5,mug/ml,s.c,single dose,NDV,16,HA,s.c,single dose>  \n",
      "<CNDV32 + T,mouse,BALB/c,4 T1,6,Tamoxifen,0.5,mug/ml,s.c,single dose,NDV,32,HA,s.c,single dose>  \n",
      "<CNDV64 + T,mouse,BALB/c,4 T1,6,Tamoxifen,0.5,mug/ml,s.c,single dose,NDV,64,HA,s.c,single dose>  \n",
      "<Liver Function Tests.Total Bilirubin [mg/dl].mean,28 days,Total Bilirubin,digestive,mg/dl,mean>  \n",
      "<Liver Function Tests.Total Bilirubin [mg/dl].SD,28 days,Total Bilirubin,digestive,mg/dl,SD>  \n",
      "<Liver Function Tests.Aspartate Transaminase (AST) [U/l].mean,28 days,Aspartate Transaminase,digestive,U/l,mean>  \n",
      "<Liver Function Tests.Aspartate Transaminase (AST) [U/l].SD,28 days,Aspartate Transaminase,digestive,U/l,SD>  \n",
      "<Liver Function Tests .Alanine Transaminase (ALT) [U/l].mean,28 days,Alanine Transaminase,digestive,U/l,mean>  \n",
      "<Liver Function Tests .Alanine Transaminase (ALT) [U/l].SD,28 days,Alanine Transaminase,digestive,U/l,SD>  \n"
     ]
    }
   ],
   "source": [
    "groups_response = groups_response_json.json()['choices'][0]['message']['content']\n",
    "biomarkers_response = biomarkers_response_json.json()['choices'][0]['message']['content']\n",
    "print(groups_response)\n",
    "print(biomarkers_response)"
   ]
  },
  {
   "cell_type": "code",
   "execution_count": 36,
   "id": "8aaeb568",
   "metadata": {},
   "outputs": [
    {
     "name": "stdout",
     "output_type": "stream",
     "text": [
      "| Animal Species | Model Type | Xenograft | Sample Size | Terminal Time | Biomarker | System Affected | Numerical Value | Units | Summary Statistic |\n",
      "| --- | --- | --- | --- | --- | --- | --- | --- | --- | --- |\n",
      "| mouse | BALB/c | N/A | 6 | 28 days | Total Bilirubin | digestive | 3.43 | mg/dl | mean>  |\n",
      "| mouse | BALB/c | N/A | 6 | 28 days | Total Bilirubin | digestive | 0.40 | mg/dl | SD>  |\n",
      "| mouse | BALB/c | N/A | 6 | 28 days | Aspartate Transaminase | digestive | 120.67 | U/l | mean>  |\n",
      "| mouse | BALB/c | N/A | 6 | 28 days | Aspartate Transaminase | digestive | 1.53 | U/l | SD>  |\n",
      "| mouse | BALB/c | N/A | 6 | 28 days | Alanine Transaminase | digestive | 36.00 | U/l | mean>  |\n",
      "| mouse | BALB/c | N/A | 6 | 28 days | Alanine Transaminase | digestive | 2.00 | U/l | SD>  |\n",
      "| mouse | BALB/c | 4 T1 | 6 | 28 days | Total Bilirubin | digestive | 2.13 | mg/dl | mean>  |\n",
      "| mouse | BALB/c | 4 T1 | 6 | 28 days | Total Bilirubin | digestive | 0.95 | mg/dl | SD>  |\n",
      "| mouse | BALB/c | 4 T1 | 6 | 28 days | Aspartate Transaminase | digestive | 214.67 | U/l | mean>  |\n",
      "| mouse | BALB/c | 4 T1 | 6 | 28 days | Aspartate Transaminase | digestive | 1.53 * | U/l | SD>  |\n",
      "| mouse | BALB/c | 4 T1 | 6 | 28 days | Alanine Transaminase | digestive | 53.67 | U/l | mean>  |\n",
      "| mouse | BALB/c | 4 T1 | 6 | 28 days | Alanine Transaminase | digestive | 1.53 | U/l | SD>  |\n",
      "| mouse | BALB/c | 4 T1 | 6 | 28 days | Total Bilirubin | digestive | 5.27 | mg/dl | mean>  |\n",
      "| mouse | BALB/c | 4 T1 | 6 | 28 days | Total Bilirubin | digestive | 0.59 | mg/dl | SD>  |\n",
      "| mouse | BALB/c | 4 T1 | 6 | 28 days | Aspartate Transaminase | digestive | 265.00 | U/l | mean>  |\n",
      "| mouse | BALB/c | 4 T1 | 6 | 28 days | Aspartate Transaminase | digestive | 2.00 * | U/l | SD>  |\n",
      "| mouse | BALB/c | 4 T1 | 6 | 28 days | Alanine Transaminase | digestive | 95.67 | U/l | mean>  |\n",
      "| mouse | BALB/c | 4 T1 | 6 | 28 days | Alanine Transaminase | digestive | 1.53 * | U/l | SD>  |\n",
      "| mouse | BALB/c | N/A | 6 | 28 days | Total Bilirubin | digestive | 4.43 | mg/dl | mean>  |\n",
      "| mouse | BALB/c | N/A | 6 | 28 days | Total Bilirubin | digestive | 0.40 | mg/dl | SD>  |\n",
      "| mouse | BALB/c | N/A | 6 | 28 days | Aspartate Transaminase | digestive | 153.33 | U/l | mean>  |\n",
      "| mouse | BALB/c | N/A | 6 | 28 days | Aspartate Transaminase | digestive | 1.53 | U/l | SD>  |\n",
      "| mouse | BALB/c | N/A | 6 | 28 days | Alanine Transaminase | digestive | 38.67 | U/l | mean>  |\n",
      "| mouse | BALB/c | N/A | 6 | 28 days | Alanine Transaminase | digestive | 1.53 | U/l | SD>  |\n",
      "| mouse | BALB/c | N/A | 6 | 28 days | Total Bilirubin | digestive | 5.75 | mg/dl | mean>  |\n",
      "| mouse | BALB/c | N/A | 6 | 28 days | Total Bilirubin | digestive | 0.35 | mg/dl | SD>  |\n",
      "| mouse | BALB/c | N/A | 6 | 28 days | Aspartate Transaminase | digestive | 125.33 | U/l | mean>  |\n",
      "| mouse | BALB/c | N/A | 6 | 28 days | Aspartate Transaminase | digestive | 93.82 | U/l | SD>  |\n",
      "| mouse | BALB/c | N/A | 6 | 28 days | Alanine Transaminase | digestive | 41.67 | U/l | mean>  |\n",
      "| mouse | BALB/c | N/A | 6 | 28 days | Alanine Transaminase | digestive | 1.53 | U/l | SD>  |\n",
      "| mouse | BALB/c | N/A | 6 | 28 days | Total Bilirubin | digestive | 4.87 | mg/dl | mean>  |\n",
      "| mouse | BALB/c | N/A | 6 | 28 days | Total Bilirubin | digestive | 0.35 | mg/dl | SD>  |\n",
      "| mouse | BALB/c | N/A | 6 | 28 days | Aspartate Transaminase | digestive | 105.00 | U/l | mean>  |\n",
      "| mouse | BALB/c | N/A | 6 | 28 days | Aspartate Transaminase | digestive | 1.00 | U/l | SD>  |\n",
      "| mouse | BALB/c | N/A | 6 | 28 days | Alanine Transaminase | digestive | 47.00 | U/l | mean>  |\n",
      "| mouse | BALB/c | N/A | 6 | 28 days | Alanine Transaminase | digestive | 1.00 | U/l | SD>  |\n",
      "| mouse | BALB/c | N/A | 6 | 28 days | Total Bilirubin | digestive | 5.13 | mg/dl | mean>  |\n",
      "| mouse | BALB/c | N/A | 6 | 28 days | Total Bilirubin | digestive | 0.67 | mg/dl | SD>  |\n",
      "| mouse | BALB/c | N/A | 6 | 28 days | Aspartate Transaminase | digestive | 115.00 | U/l | mean>  |\n",
      "| mouse | BALB/c | N/A | 6 | 28 days | Aspartate Transaminase | digestive | 11.27 | U/l | SD>  |\n",
      "| mouse | BALB/c | N/A | 6 | 28 days | Alanine Transaminase | digestive | 52.67 | U/l | mean>  |\n",
      "| mouse | BALB/c | N/A | 6 | 28 days | Alanine Transaminase | digestive | 2.51 | U/l | SD>  |\n",
      "| mouse | BALB/c | 4 T1 | 6 | 28 days | Total Bilirubin | digestive | 4.47 | mg/dl | mean>  |\n",
      "| mouse | BALB/c | 4 T1 | 6 | 28 days | Total Bilirubin | digestive | 0.35 | mg/dl | SD>  |\n",
      "| mouse | BALB/c | 4 T1 | 6 | 28 days | Aspartate Transaminase | digestive | 98.67 | U/l | mean>  |\n",
      "| mouse | BALB/c | 4 T1 | 6 | 28 days | Aspartate Transaminase | digestive | 1.53 | U/l | SD>  |\n",
      "| mouse | BALB/c | 4 T1 | 6 | 28 days | Alanine Transaminase | digestive | 26.33 | U/l | mean>  |\n",
      "| mouse | BALB/c | 4 T1 | 6 | 28 days | Alanine Transaminase | digestive | 1.15 | U/l | SD>  |\n",
      "| mouse | BALB/c | 4 T1 | 6 | 28 days | Total Bilirubin | digestive | 3.00 | mg/dl | mean>  |\n",
      "| mouse | BALB/c | 4 T1 | 6 | 28 days | Total Bilirubin | digestive | 0.50 | mg/dl | SD>  |\n",
      "| mouse | BALB/c | 4 T1 | 6 | 28 days | Aspartate Transaminase | digestive | 173.33 | U/l | mean>  |\n",
      "| mouse | BALB/c | 4 T1 | 6 | 28 days | Aspartate Transaminase | digestive | 1.53 | U/l | SD>  |\n",
      "| mouse | BALB/c | 4 T1 | 6 | 28 days | Alanine Transaminase | digestive | 57.00 | U/l | mean>  |\n",
      "| mouse | BALB/c | 4 T1 | 6 | 28 days | Alanine Transaminase | digestive | 1.00 | U/l | SD>  |\n",
      "| mouse | BALB/c | 4 T1 | 6 | 28 days | Total Bilirubin | digestive | 2.87 | mg/dl | mean>  |\n",
      "| mouse | BALB/c | 4 T1 | 6 | 28 days | Total Bilirubin | digestive | 0.35 | mg/dl | SD>  |\n",
      "| mouse | BALB/c | 4 T1 | 6 | 28 days | Aspartate Transaminase | digestive | 121.00 | U/l | mean>  |\n",
      "| mouse | BALB/c | 4 T1 | 6 | 28 days | Aspartate Transaminase | digestive | 2.00 | U/l | SD>  |\n",
      "| mouse | BALB/c | 4 T1 | 6 | 28 days | Alanine Transaminase | digestive | 49.00 | U/l | mean>  |\n",
      "| mouse | BALB/c | 4 T1 | 6 | 28 days | Alanine Transaminase | digestive | 1.00 | U/l | SD>  |\n",
      "| mouse | BALB/c | 4 T1 | 6 | 28 days | Total Bilirubin | digestive | 3.40 | mg/dl | mean>  |\n",
      "| mouse | BALB/c | 4 T1 | 6 | 28 days | Total Bilirubin | digestive | 0.40 | mg/dl | SD>  |\n",
      "| mouse | BALB/c | 4 T1 | 6 | 28 days | Aspartate Transaminase | digestive | 153.67 | U/l | mean>  |\n",
      "| mouse | BALB/c | 4 T1 | 6 | 28 days | Aspartate Transaminase | digestive | 1.53 | U/l | SD>  |\n",
      "| mouse | BALB/c | 4 T1 | 6 | 28 days | Alanine Transaminase | digestive | 49.33 | U/l | mean>  |\n",
      "| mouse | BALB/c | 4 T1 | 6 | 28 days | Alanine Transaminase | digestive | 0.58 | U/l | SD>  |\n",
      "| mouse | BALB/c | 4 T1 | 6 | 28 days | Total Bilirubin | digestive | 2.77 | mg/dl | mean>  |\n",
      "| mouse | BALB/c | 4 T1 | 6 | 28 days | Total Bilirubin | digestive | 0.45 | mg/dl | SD>  |\n",
      "| mouse | BALB/c | 4 T1 | 6 | 28 days | Aspartate Transaminase | digestive | 166.67 | U/l | mean>  |\n",
      "| mouse | BALB/c | 4 T1 | 6 | 28 days | Aspartate Transaminase | digestive | 56.62 | U/l | SD>  |\n",
      "| mouse | BALB/c | 4 T1 | 6 | 28 days | Alanine Transaminase | digestive | 103.00 | U/l | mean>  |\n",
      "| mouse | BALB/c | 4 T1 | 6 | 28 days | Alanine Transaminase | digestive | 2.00 * | U/l | SD>  |\n",
      "| mouse | BALB/c | 4 T1 | 6 | 28 days | Total Bilirubin | digestive | 2.43 | mg/dl | mean>  |\n",
      "| mouse | BALB/c | 4 T1 | 6 | 28 days | Total Bilirubin | digestive | 0.40 | mg/dl | SD>  |\n",
      "| mouse | BALB/c | 4 T1 | 6 | 28 days | Aspartate Transaminase | digestive | 108.00 | U/l | mean>  |\n",
      "| mouse | BALB/c | 4 T1 | 6 | 28 days | Aspartate Transaminase | digestive | 1.00 | U/l | SD>  |\n",
      "| mouse | BALB/c | 4 T1 | 6 | 28 days | Alanine Transaminase | digestive | 56.33 | U/l | mean>  |\n",
      "| mouse | BALB/c | 4 T1 | 6 | 28 days | Alanine Transaminase | digestive | 1.53 | U/l | SD>  |\n",
      "| mouse | BALB/c | 4 T1 | 6 | 28 days | Total Bilirubin | digestive | 10.67 | mg/dl | mean>  |\n",
      "| mouse | BALB/c | 4 T1 | 6 | 28 days | Total Bilirubin | digestive | 4.72 * | mg/dl | SD>  |\n",
      "| mouse | BALB/c | 4 T1 | 6 | 28 days | Aspartate Transaminase | digestive | 122.33 | U/l | mean>  |\n",
      "| mouse | BALB/c | 4 T1 | 6 | 28 days | Aspartate Transaminase | digestive | 2.52 | U/l | SD>  |\n",
      "| mouse | BALB/c | 4 T1 | 6 | 28 days | Alanine Transaminase | digestive | 160.33 | U/l | mean>  |\n",
      "| mouse | BALB/c | 4 T1 | 6 | 28 days | Alanine Transaminase | digestive | 25.66 * | U/l | SD>  |\n",
      "| mouse | BALB/c | 4 T1 | 6 | 28 days | Total Bilirubin | digestive | 14.33 | mg/dl | mean>  |\n",
      "| mouse | BALB/c | 4 T1 | 6 | 28 days | Total Bilirubin | digestive | 4.04 * | mg/dl | SD>  |\n",
      "| mouse | BALB/c | 4 T1 | 6 | 28 days | Aspartate Transaminase | digestive | 170.67 | U/l | mean>  |\n",
      "| mouse | BALB/c | 4 T1 | 6 | 28 days | Aspartate Transaminase | digestive | 1.53 | U/l | SD>  |\n",
      "| mouse | BALB/c | 4 T1 | 6 | 28 days | Alanine Transaminase | digestive | 146.33 | U/l | mean>  |\n",
      "| mouse | BALB/c | 4 T1 | 6 | 28 days | Alanine Transaminase | digestive | 32.52 * | U/l | SD>  |\n",
      "\n"
     ]
    }
   ],
   "source": [
    "groups = [group[1:-1].split(\",\") for group in groups_response.split(\"\\n\")]\n",
    "biomarkers = [marker[1:-1].split(\",\") for marker in biomarkers_response.split(\"\\n\")]\n",
    "final_md = \"| Animal Species | Model Type | Xenograft | Sample Size | Terminal Time | Biomarker | System Affected |\" \\\n",
    "           \" Numerical Value | Units | Summary Statistic |\\n|\" + \" --- |\" * 10 + \"\\n\"\n",
    "group_dict = {group: i for i, group in enumerate(df.iloc[:, 0])}\n",
    "for group in groups:\n",
    "    for biomarker in biomarkers:\n",
    "        row = \"| \" + group[1] + \" | \"                               #animal species\n",
    "        row += group[2] + \" | \"                                     #model type\n",
    "        row += group[3] + \" | \"                                     #xenograft\n",
    "        row += group[4] + \" | \"                                     #sample size\n",
    "        row += biomarker[1] + \" | \"                                 #terminal time\n",
    "        row += biomarker[2] + \" | \"                                 #biomarker (new_name)\n",
    "        row += biomarker[3] + \" | \"                                 #system affected\n",
    "        row += df.loc[group_dict[group[0]], biomarker[0]]  + \" | \"  #value\n",
    "        row += biomarker[4] + \" | \"                                 #units\n",
    "        row += biomarker[5] + \" |\\n\"                                 #summary statistic\n",
    "        final_md += row\n",
    "print(final_md)\n"
   ]
  },
  {
   "cell_type": "markdown",
   "id": "fdd68857",
   "metadata": {},
   "source": [
    "| Animal Species | Model Type | Xenograft | Sample Size | Terminal Time | Biomarker | System Affected | Numerical Value | Units | Summary Statistic |\n",
    "| --- | --- | --- | --- | --- | --- | --- | --- | --- | --- |\n",
    "| mouse | BALB/c | N/A | 6 | 4 weeks | Total Bilirubin | digestive | 3.43 | mg/dl | mean |\n",
    "| mouse | BALB/c | N/A | 6 | 4 weeks | Total Bilirubin | digestive | 0.40 | mg/dl | SD |\n",
    "| mouse | BALB/c | N/A | 6 | 4 weeks | Aspartate Transaminase (AST) | digestive | 120.67 | U/l | mean |\n",
    "| mouse | BALB/c | N/A | 6 | 4 weeks | Aspartate Transaminase (AST) | digestive | 1.53 | U/l | SD |\n",
    "| mouse | BALB/c | N/A | 6 | 4 weeks | Alanine Transaminase (ALT) | digestive | 36.00 | U/l | mean |\n",
    "| mouse | BALB/c | N/A | 6 | 4 weeks | Alanine Transaminase (ALT) | digestive | 2.00 | U/l | SD |\n",
    "| mouse | BALB/c | 4T1 | 6 | 4 weeks | Total Bilirubin | digestive | 2.13 | mg/dl | mean |\n",
    "| mouse | BALB/c | 4T1 | 6 | 4 weeks | Total Bilirubin | digestive | 0.95 | mg/dl | SD |\n",
    "| mouse | BALB/c | 4T1 | 6 | 4 weeks | Aspartate Transaminase (AST) | digestive | 214.67 | U/l | mean |\n",
    "| mouse | BALB/c | 4T1 | 6 | 4 weeks | Aspartate Transaminase (AST) | digestive | 1.53 * | U/l | SD |\n",
    "| mouse | BALB/c | 4T1 | 6 | 4 weeks | Alanine Transaminase (ALT) | digestive | 53.67 | U/l | mean |\n",
    "| mouse | BALB/c | 4T1 | 6 | 4 weeks | Alanine Transaminase (ALT) | digestive | 1.53 | U/l | SD |\n",
    "| mouse | BALB/c | 4T1 | 6 | 4 weeks | Total Bilirubin | digestive | 5.27 | mg/dl | mean |\n",
    "| mouse | BALB/c | 4T1 | 6 | 4 weeks | Total Bilirubin | digestive | 0.59 | mg/dl | SD |\n",
    "| mouse | BALB/c | 4T1 | 6 | 4 weeks | Aspartate Transaminase (AST) | digestive | 265.00 | U/l | mean |\n",
    "| mouse | BALB/c | 4T1 | 6 | 4 weeks | Aspartate Transaminase (AST) | digestive | 2.00 * | U/l | SD |\n",
    "| mouse | BALB/c | 4T1 | 6 | 4 weeks | Alanine Transaminase (ALT) | digestive | 95.67 | U/l | mean |\n",
    "| mouse | BALB/c | 4T1 | 6 | 4 weeks | Alanine Transaminase (ALT) | digestive | 1.53 * | U/l | SD |\n",
    "| mouse | BALB/c | N/A | 6 | 4 weeks | Total Bilirubin | digestive | 4.43 | mg/dl | mean |\n",
    "| mouse | BALB/c | N/A | 6 | 4 weeks | Total Bilirubin | digestive | 0.40 | mg/dl | SD |\n",
    "| mouse | BALB/c | N/A | 6 | 4 weeks | Aspartate Transaminase (AST) | digestive | 153.33 | U/l | mean |\n",
    "| mouse | BALB/c | N/A | 6 | 4 weeks | Aspartate Transaminase (AST) | digestive | 1.53 | U/l | SD |\n",
    "| mouse | BALB/c | N/A | 6 | 4 weeks | Alanine Transaminase (ALT) | digestive | 38.67 | U/l | mean |\n",
    "| mouse | BALB/c | N/A | 6 | 4 weeks | Alanine Transaminase (ALT) | digestive | 1.53 | U/l | SD |\n",
    "| mouse | BALB/c | N/A | 6 | 4 weeks | Total Bilirubin | digestive | 5.75 | mg/dl | mean |\n",
    "| mouse | BALB/c | N/A | 6 | 4 weeks | Total Bilirubin | digestive | 0.35 | mg/dl | SD |\n",
    "| mouse | BALB/c | N/A | 6 | 4 weeks | Aspartate Transaminase (AST) | digestive | 125.33 | U/l | mean |\n",
    "| mouse | BALB/c | N/A | 6 | 4 weeks | Aspartate Transaminase (AST) | digestive | 93.82 | U/l | SD |\n",
    "| mouse | BALB/c | N/A | 6 | 4 weeks | Alanine Transaminase (ALT) | digestive | 41.67 | U/l | mean |\n",
    "| mouse | BALB/c | N/A | 6 | 4 weeks | Alanine Transaminase (ALT) | digestive | 1.53 | U/l | SD |\n",
    "| mouse | BALB/c | N/A | 6 | 4 weeks | Total Bilirubin | digestive | 4.87 | mg/dl | mean |\n",
    "| mouse | BALB/c | N/A | 6 | 4 weeks | Total Bilirubin | digestive | 0.35 | mg/dl | SD |\n",
    "| mouse | BALB/c | N/A | 6 | 4 weeks | Aspartate Transaminase (AST) | digestive | 105.00 | U/l | mean |\n",
    "| mouse | BALB/c | N/A | 6 | 4 weeks | Aspartate Transaminase (AST) | digestive | 1.00 | U/l | SD |\n",
    "| mouse | BALB/c | N/A | 6 | 4 weeks | Alanine Transaminase (ALT) | digestive | 47.00 | U/l | mean |\n",
    "| mouse | BALB/c | N/A | 6 | 4 weeks | Alanine Transaminase (ALT) | digestive | 1.00 | U/l | SD |\n",
    "| mouse | BALB/c | N/A | 6 | 4 weeks | Total Bilirubin | digestive | 5.13 | mg/dl | mean |\n",
    "| mouse | BALB/c | N/A | 6 | 4 weeks | Total Bilirubin | digestive | 0.67 | mg/dl | SD |\n",
    "| mouse | BALB/c | N/A | 6 | 4 weeks | Aspartate Transaminase (AST) | digestive | 115.00 | U/l | mean |\n",
    "| mouse | BALB/c | N/A | 6 | 4 weeks | Aspartate Transaminase (AST) | digestive | 11.27 | U/l | SD |\n",
    "| mouse | BALB/c | N/A | 6 | 4 weeks | Alanine Transaminase (ALT) | digestive | 52.67 | U/l | mean |\n",
    "| mouse | BALB/c | N/A | 6 | 4 weeks | Alanine Transaminase (ALT) | digestive | 2.51 | U/l | SD |\n",
    "| mouse | BALB/c | 4T1 | 6 | 4 weeks | Total Bilirubin | digestive | 4.47 | mg/dl | mean |\n",
    "| mouse | BALB/c | 4T1 | 6 | 4 weeks | Total Bilirubin | digestive | 0.35 | mg/dl | SD |\n",
    "| mouse | BALB/c | 4T1 | 6 | 4 weeks | Aspartate Transaminase (AST) | digestive | 98.67 | U/l | mean |\n",
    "| mouse | BALB/c | 4T1 | 6 | 4 weeks | Aspartate Transaminase (AST) | digestive | 1.53 | U/l | SD |\n",
    "| mouse | BALB/c | 4T1 | 6 | 4 weeks | Alanine Transaminase (ALT) | digestive | 26.33 | U/l | mean |\n",
    "| mouse | BALB/c | 4T1 | 6 | 4 weeks | Alanine Transaminase (ALT) | digestive | 1.15 | U/l | SD |\n",
    "| mouse | BALB/c | 4T1 | 6 | 4 weeks | Total Bilirubin | digestive | 3.00 | mg/dl | mean |\n",
    "| mouse | BALB/c | 4T1 | 6 | 4 weeks | Total Bilirubin | digestive | 0.50 | mg/dl | SD |\n",
    "| mouse | BALB/c | 4T1 | 6 | 4 weeks | Aspartate Transaminase (AST) | digestive | 173.33 | U/l | mean |\n",
    "| mouse | BALB/c | 4T1 | 6 | 4 weeks | Aspartate Transaminase (AST) | digestive | 1.53 | U/l | SD |\n",
    "| mouse | BALB/c | 4T1 | 6 | 4 weeks | Alanine Transaminase (ALT) | digestive | 57.00 | U/l | mean |\n",
    "| mouse | BALB/c | 4T1 | 6 | 4 weeks | Alanine Transaminase (ALT) | digestive | 1.00 | U/l | SD |\n",
    "| mouse | BALB/c | 4T1 | 6 | 4 weeks | Total Bilirubin | digestive | 2.87 | mg/dl | mean |\n",
    "| mouse | BALB/c | 4T1 | 6 | 4 weeks | Total Bilirubin | digestive | 0.35 | mg/dl | SD |\n",
    "| mouse | BALB/c | 4T1 | 6 | 4 weeks | Aspartate Transaminase (AST) | digestive | 121.00 | U/l | mean |\n",
    "| mouse | BALB/c | 4T1 | 6 | 4 weeks | Aspartate Transaminase (AST) | digestive | 2.00 | U/l | SD |\n",
    "| mouse | BALB/c | 4T1 | 6 | 4 weeks | Alanine Transaminase (ALT) | digestive | 49.00 | U/l | mean |\n",
    "| mouse | BALB/c | 4T1 | 6 | 4 weeks | Alanine Transaminase (ALT) | digestive | 1.00 | U/l | SD |\n",
    "| mouse | BALB/c | 4T1 | 6 | 4 weeks | Total Bilirubin | digestive | 3.40 | mg/dl | mean |\n",
    "| mouse | BALB/c | 4T1 | 6 | 4 weeks | Total Bilirubin | digestive | 0.40 | mg/dl | SD |\n",
    "| mouse | BALB/c | 4T1 | 6 | 4 weeks | Aspartate Transaminase (AST) | digestive | 153.67 | U/l | mean |\n",
    "| mouse | BALB/c | 4T1 | 6 | 4 weeks | Aspartate Transaminase (AST) | digestive | 1.53 | U/l | SD |\n",
    "| mouse | BALB/c | 4T1 | 6 | 4 weeks | Alanine Transaminase (ALT) | digestive | 49.33 | U/l | mean |\n",
    "| mouse | BALB/c | 4T1 | 6 | 4 weeks | Alanine Transaminase (ALT) | digestive | 0.58 | U/l | SD |\n",
    "| mouse | BALB/c | 4T1 | 6 | 4 weeks | Total Bilirubin | digestive | 2.77 | mg/dl | mean |\n",
    "| mouse | BALB/c | 4T1 | 6 | 4 weeks | Total Bilirubin | digestive | 0.45 | mg/dl | SD |\n",
    "| mouse | BALB/c | 4T1 | 6 | 4 weeks | Aspartate Transaminase (AST) | digestive | 166.67 | U/l | mean |\n",
    "| mouse | BALB/c | 4T1 | 6 | 4 weeks | Aspartate Transaminase (AST) | digestive | 56.62 | U/l | SD |\n",
    "| mouse | BALB/c | 4T1 | 6 | 4 weeks | Alanine Transaminase (ALT) | digestive | 103.00 | U/l | mean |\n",
    "| mouse | BALB/c | 4T1 | 6 | 4 weeks | Alanine Transaminase (ALT) | digestive | 2.00 * | U/l | SD |\n",
    "| mouse | BALB/c | 4T1 | 6 | 4 weeks | Total Bilirubin | digestive | 2.43 | mg/dl | mean |\n",
    "| mouse | BALB/c | 4T1 | 6 | 4 weeks | Total Bilirubin | digestive | 0.40 | mg/dl | SD |\n",
    "| mouse | BALB/c | 4T1 | 6 | 4 weeks | Aspartate Transaminase (AST) | digestive | 108.00 | U/l | mean |\n",
    "| mouse | BALB/c | 4T1 | 6 | 4 weeks | Aspartate Transaminase (AST) | digestive | 1.00 | U/l | SD |\n",
    "| mouse | BALB/c | 4T1 | 6 | 4 weeks | Alanine Transaminase (ALT) | digestive | 56.33 | U/l | mean |\n",
    "| mouse | BALB/c | 4T1 | 6 | 4 weeks | Alanine Transaminase (ALT) | digestive | 1.53 | U/l | SD |\n",
    "| mouse | BALB/c | 4T1 | 6 | 4 weeks | Total Bilirubin | digestive | 10.67 | mg/dl | mean |\n",
    "| mouse | BALB/c | 4T1 | 6 | 4 weeks | Total Bilirubin | digestive | 4.72 * | mg/dl | SD |\n",
    "| mouse | BALB/c | 4T1 | 6 | 4 weeks | Aspartate Transaminase (AST) | digestive | 122.33 | U/l | mean |\n",
    "| mouse | BALB/c | 4T1 | 6 | 4 weeks | Aspartate Transaminase (AST) | digestive | 2.52 | U/l | SD |\n",
    "| mouse | BALB/c | 4T1 | 6 | 4 weeks | Alanine Transaminase (ALT) | digestive | 160.33 | U/l | mean |\n",
    "| mouse | BALB/c | 4T1 | 6 | 4 weeks | Alanine Transaminase (ALT) | digestive | 25.66 * | U/l | SD |\n",
    "| mouse | BALB/c | 4T1 | 6 | 4 weeks | Total Bilirubin | digestive | 14.33 | mg/dl | mean |\n",
    "| mouse | BALB/c | 4T1 | 6 | 4 weeks | Total Bilirubin | digestive | 4.04 * | mg/dl | SD |\n",
    "| mouse | BALB/c | 4T1 | 6 | 4 weeks | Aspartate Transaminase (AST) | digestive | 170.67 | U/l | mean |\n",
    "| mouse | BALB/c | 4T1 | 6 | 4 weeks | Aspartate Transaminase (AST) | digestive | 1.53 | U/l | SD |\n",
    "| mouse | BALB/c | 4T1 | 6 | 4 weeks | Alanine Transaminase (ALT) | digestive | 146.33 | U/l | mean |\n",
    "| mouse | BALB/c | 4T1 | 6 | 4 weeks | Alanine Transaminase (ALT) | digestive | 32.52 * | U/l | SD |"
   ]
  },
  {
   "cell_type": "markdown",
   "id": "c16950d8",
   "metadata": {},
   "source": []
  }
 ],
 "metadata": {
  "kernelspec": {
   "display_name": "env",
   "language": "python",
   "name": "python3"
  },
  "language_info": {
   "codemirror_mode": {
    "name": "ipython",
    "version": 3
   },
   "file_extension": ".py",
   "mimetype": "text/x-python",
   "name": "python",
   "nbconvert_exporter": "python",
   "pygments_lexer": "ipython3",
   "version": "3.12.10"
  }
 },
 "nbformat": 4,
 "nbformat_minor": 5
}

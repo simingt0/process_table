{
 "cells": [
  {
   "cell_type": "markdown",
   "id": "902563ef",
   "metadata": {},
   "source": [
    "Importing Libraries"
   ]
  },
  {
   "cell_type": "code",
   "execution_count": null,
   "id": "fce303e1",
   "metadata": {},
   "outputs": [],
   "source": [
    "%pip install --upgrade pip\n",
    "%pip install requests pandas\n",
    "%pip install lxml\n",
    "%pip install python-dotenv"
   ]
  },
  {
   "cell_type": "code",
   "execution_count": 2,
   "id": "c896bb7f",
   "metadata": {},
   "outputs": [],
   "source": [
    "import table_utils\n",
    "import pandas as pd\n",
    "from bs4 import BeautifulSoup\n",
    "import requests\n",
    "import os\n",
    "from datetime import datetime\n",
    "import html"
   ]
  },
  {
   "cell_type": "markdown",
   "id": "63414edb",
   "metadata": {},
   "source": [
    "Defining prompt and PMC API request functions"
   ]
  },
  {
   "cell_type": "code",
   "execution_count": null,
   "id": "83458fd8",
   "metadata": {},
   "outputs": [],
   "source": [
    "def fetch_bioc_xml(pmc_id: str, encoding: str = \"ascii\") -> str:\n",
    "    \"\"\"\n",
    "    Uses API call to import PMC dataset paper in xml format and default ASCII encoding\n",
    "    \"\"\"\n",
    "    url = f\"https://www.ncbi.nlm.nih.gov/research/bionlp/RESTful/pmcoa.cgi/BioC_xml/{pmc_id}/{encoding}\"\n",
    "    resp = requests.get(url)\n",
    "    resp.raise_for_status()\n",
    "    return resp.text\n",
    "\n",
    "def get_table_prompt(abstract, tables):\n",
    "    \"\"\"\n",
    "    Using abstract and list of all tables, returns prompt to get whether the tables are related to toxicity study\n",
    "    \"\"\"\n",
    "    table_prompt = f\"<abstract>\\n{abstract}\\n</abstract>\\n\"\n",
    "    for i in range(len(tables)):\n",
    "        table_prompt += f\"<table{i+1}>\\n{tables[i]}\\n</table{i+1}>\\n\"\n",
    "    table_prompt += \"<instructions>\\nAbove is the abstract of a research paper and a series of tables that are in it. For each table, indicate whether it is a table indicating biomarker data from an animal toxicity experiment or not with a 0, representing no, or a 1, representing yes, in a list separated by commas within angle brackets like so: <0,0,1,0,1>. For every answer you give, double check which table it relates to and verify its source. Do not include any other text besides your answer and do not add any other text inside the list except for the requested information.\\n</instructions>\"\n",
    "    return table_prompt\n",
    "\n",
    "def get_formatting_prompt(table):\n",
    "    \"\"\"\n",
    "    Returns prompt for formatting\n",
    "    \"\"\"\n",
    "    formatting_prompt = f\"<table>\\n{table}\\n</table>\\n<instructions>\\nAbove is a table representing animal toxicity data. Complete the following instructions in order and write the answer within angle brackets each on a new line. Do not include any other text besides your answer. Verify your information's source before adding it to your answer.\\n1. Do the groups go vertically, where each treatment group occupies a separate column, or do they go horizontally, where each group occupies a row? Write <vertical> if vertical and <horizontal> if horizontal\\n2. Are there any extra title columns on the left that should be combined? If so, write <n> where n is the number for how many columns that should be combined into a singular title column. n = 1 if there are no extra columns. \\n3. In the numerical cells, are there any special characters that should be removed, such as *? If so, list any of them present in the brackets, separated by '|'.\\n</instructions>\\n<example>\\n<horizontal>\\n<1>\\n<*,~>\\n</example>\"\n",
    "    return formatting_prompt\n",
    "\n",
    "def get_groups_prompt(paper, group_list):\n",
    "    \"\"\"\n",
    "    Returns prompt for getting treatment group information\n",
    "    Group Format: <group_name,animal_species,model_type,n,treatment_medication1,dose1,unit1,route1,freq1>\n",
    "    \"\"\"\n",
    "    groups_prompt = f'<paper>\\n{paper}\\n</paper>\\n<instructions>\\nAbove is the methods section of a paper containing animal toxicity trials. For only the animal trials sections list the parameters of each of the groups (listed below), with their respective parameters in the format shown below separated by \"|\". For each piece of information, validate its source before adding it to your answer. If no treatments are performed, simply do not add any spaces for treatments. Do not add spaces between parameters and put each group on a new line. If you cannot find a certain piece of information, fill the blank with N/A. Do not include any text besides these groups and do not add any text inside the groups except for the requested information.\\n<group_name|animal_species|model_type|xenografted_cells|sample_size|{{for each treatment i: treatment_medication_i|dose_i|unit_i|route_i|freq_i}}>\\nGroup list: {group_list}\\n</instructions>\\n<example>\\n<tumor control|mouse|CD-1|MDA-MB-231|5|DMSO|100|mul|iv|single dose>\\n</example>'\n",
    "    return groups_prompt\n",
    "\n",
    "def get_biomarker_prompt(paper, table):\n",
    "    \"\"\"\n",
    "    Returns prompt for getting toxicity biomarker information\n",
    "    Biomarker Format: <biomarker_name,terminal_time,new_name,relevant_system,numerical_value,unit,summary_stat>\n",
    "    \"\"\"\n",
    "    biomarkers_prompt = f\"<paper>\\n{paper}\\n</paper>\\n<instructions>\\nAbove is the methods section of a paper and the following table is a processed version of the table from its animal toxicity study:\\n<table>\\n{table}\\n</table>\\nFor each of the columns, which represent toxicity biomarkers, list the details in this format:\\n<column_name|terminal_time|biomarker_name|relevant_system|unit|summary_stat>\\nThe column_name should be the original column name and the new_name should be just the biomarker, removing other information such as units, summary statistic type, and categories. In relevant_system, fill in one of skeletal, muscular, nervous, endocrine, cardiovascular, respiratory, digestive, reproductive, or N/A if the biomarker relates to none of these. For each piece of information, validate its source before adding it to your answer. Do not add spaces between parameters and put each group on a new line. If you cannot find a certain piece of information, fill the blank with N/A. ONLY include these treatment parameters and do not add any text inside them except for the requested information.\\n</instructions>\\n<example>\\n<Organ Weights (g).Final Heart Weight.mean|2 weeks,Heart Weight|cardiovascular|g|mean></example>\"\n",
    "    return biomarkers_prompt\n"
   ]
  },
  {
   "cell_type": "markdown",
   "id": "78deb84b",
   "metadata": {},
   "source": [
    "Enter PMC Here"
   ]
  },
  {
   "cell_type": "code",
   "execution_count": null,
   "id": "eceeb662",
   "metadata": {},
   "outputs": [],
   "source": [
    "PMC = \"PMC10450773\""
   ]
  },
  {
   "cell_type": "markdown",
   "id": "8d93a822",
   "metadata": {},
   "source": [
    "Downloading research paper"
   ]
  },
  {
   "cell_type": "code",
   "execution_count": null,
   "id": "789c61f6",
   "metadata": {},
   "outputs": [],
   "source": [
    "xml = fetch_bioc_xml(PMC)\n",
    "with open(f\"papers/{PMC}.xml\", \"w\", encoding=\"utf-8\") as f:\n",
    "    f.write(xml)\n"
   ]
  },
  {
   "cell_type": "markdown",
   "id": "2687dce5",
   "metadata": {},
   "source": [
    "Extracting abstract and tables from table and generating table prompt"
   ]
  },
  {
   "cell_type": "code",
   "execution_count": null,
   "id": "7decdf73",
   "metadata": {},
   "outputs": [],
   "source": [
    "with open(f\"papers/{PMC}.xml\", \"r\", encoding=\"utf-8\") as file:\n",
    "    paper_xml = file.read()\n",
    "soup = BeautifulSoup(paper_xml, \"lxml-xml\")\n",
    "abstract_passages = [p for p in soup.find_all(\"passage\") if p.find(\"infon\", {\"key\": \"section_type\"}) and \n",
    "        p.find(\"infon\", {\"key\": \"section_type\"}).text.strip().upper() == \"METHODS\"]\n",
    "abstract_text_list = [p.find(\"text\").get_text() for p in abstract_passages if p.find(\"text\")]\n",
    "abstract = \"\\n\".join(abstract_text_list)\n",
    "tables = [table_utils.single_html_table_to_markdown(html.unescape(p.get_text())) for p in soup.find_all(\"passage\") if p.find(\"infon\", {\"key\": \"xml\"})]\n",
    "table_prompt = get_table_prompt(abstract, tables)\n",
    "print(table_prompt)"
   ]
  },
  {
   "cell_type": "markdown",
   "id": "afb539bf",
   "metadata": {},
   "source": [
    "API request for which tables are toxicity related"
   ]
  },
  {
   "cell_type": "code",
   "execution_count": null,
   "id": "27d030be",
   "metadata": {},
   "outputs": [],
   "source": [
    "endpoint = os.getenv(\"AZURE_OPENAI_ENDPOINT\")\n",
    "version = os.getenv(\"OPENAI_API_VERSION\")\n",
    "model = os.getenv(\"OPENAI_MODEL\")\n",
    "api_key = os.getenv(\"OPENAI_API_KEY\")\n",
    "\n",
    "url = f\"{endpoint}openai/deployments/{model}/chat/completions?api-version={version}\"\n",
    "print(url)\n",
    "\n",
    "headers = {\n",
    "    \"Content-Type\": \"application/json\",\n",
    "    \"api-key\": api_key,\n",
    "}\n",
    "\n",
    "table_payload = {\n",
    "    \"messages\": [\n",
    "        {\"role\": \"user\", \"content\": table_prompt}\n",
    "    ],\n",
    "    \"temperature\": 0,\n",
    "    \"max_tokens\": 50,\n",
    "}\n",
    "\n",
    "#saving as {PMC}\\n---\\n{prompt}\\n---\\n{response}\n",
    "table_response_json = requests.post(url, headers=headers, json=table_payload)\n",
    "time = datetime.now().strftime(\"%Y-%m-%d_%H-%M-%S\")\n",
    "with open(f\"responses/{time}_table.txt\", \"w\", encoding=\"utf-8\") as file:\n",
    "    file.write(f\"{PMC}\\n---\\n{table_prompt}\\n---\\n{table_response_json.json()['choices'][0]['message']['content']}\")\n",
    "print(table_response_json.status_code)\n",
    "\n",
    "table_bools = [table_response_json.json()['choices'][0]['message']['content'].strip()[1:-1].split(\",\")]"
   ]
  },
  {
   "cell_type": "markdown",
   "id": "8e41363f",
   "metadata": {},
   "source": [
    "Fetches table manually extracted from research paper with path tables/{PMC}.txt"
   ]
  },
  {
   "cell_type": "code",
   "execution_count": null,
   "id": "ae73462d",
   "metadata": {},
   "outputs": [],
   "source": [
    "with open(f'tables/{PMC}.txt', 'r', encoding='utf-8') as f:\n",
    "    html_content = f.read()"
   ]
  },
  {
   "cell_type": "markdown",
   "id": "48c983b2",
   "metadata": {},
   "source": [
    "API call to check for formatting"
   ]
  },
  {
   "cell_type": "code",
   "execution_count": null,
   "id": "76383fe3",
   "metadata": {},
   "outputs": [],
   "source": [
    "xml_content = html.unescape(html_content)\n",
    "markdown_table = table_utils.single_html_table_to_markdown(xml_content)\n",
    "\n",
    "endpoint = os.getenv(\"AZURE_OPENAI_ENDPOINT\")\n",
    "version = os.getenv(\"OPENAI_API_VERSION\")\n",
    "model = os.getenv(\"OPENAI_MODEL\")\n",
    "api_key = os.getenv(\"OPENAI_API_KEY\")\n",
    "\n",
    "url = f\"{endpoint}openai/deployments/{model}/chat/completions?api-version={version}\"\n",
    "\n",
    "headers = {\n",
    "    \"Content-Type\": \"application/json\",\n",
    "    \"api-key\": api_key,\n",
    "}\n",
    "\n",
    "formatting_prompt = get_formatting_prompt(markdown_table)\n",
    "formatting_payload = {\n",
    "    \"messages\": [\n",
    "        {\"role\": \"user\", \"content\": formatting_prompt}\n",
    "    ],\n",
    "    \"temperature\": 0,\n",
    "    \"max_tokens\": 50,\n",
    "}\n",
    "\n",
    "#saving as {PMC}\\n---\\n{prompt}\\n---\\n{response}\n",
    "formatting_response_json = requests.post(url, headers=headers, json=formatting_payload)\n",
    "time = datetime.now().strftime(\"%Y-%m-%d_%H-%M-%S\")\n",
    "with open(f\"responses/{time}_formatting.txt\", \"w\", encoding=\"utf-8\") as file:\n",
    "    file.write(f\"{PMC}\\n---\\n{formatting_prompt}\\n---\\n{formatting_response_json.json()['choices'][0]['message']['content']}\")\n",
    "print(formatting_response_json.status_code)\n",
    "\n",
    "formatting_args = [brackets[1:-1] for brackets in formatting_response_json.json()['choices'][0]['message']['content'].split(\"\\n\")]"
   ]
  },
  {
   "cell_type": "markdown",
   "id": "1fa22d98",
   "metadata": {},
   "source": [
    "Alternatively, read in previous response"
   ]
  },
  {
   "cell_type": "code",
   "execution_count": null,
   "id": "818d03b8",
   "metadata": {},
   "outputs": [],
   "source": [
    "response_file = \"responses/2025-06-03_15-22-55_formatting.txt\"\n",
    "with open(f\"{response_file}\", \"r\", encoding=\"utf-8\") as file:\n",
    "    formatting_args = [brackets[1:-1] for brackets in file.read().split(\"\\n---\\n\")[2].split(\"\\n\")]"
   ]
  },
  {
   "cell_type": "markdown",
   "id": "cc1948ee",
   "metadata": {},
   "source": [
    "Processing the markdown table"
   ]
  },
  {
   "cell_type": "code",
   "execution_count": null,
   "id": "98ba4102",
   "metadata": {},
   "outputs": [],
   "source": [
    "xml_content = html.unescape(html_content)\n",
    "markdown_table = table_utils.single_html_table_to_markdown(xml_content)\n",
    "\n",
    "print(markdown_table)\n",
    "print(\"\\n---\\n\")\n",
    "\n",
    "if range(int(formatting_args[1])):\n",
    "    markdown_table = table_utils.combine_markdown_group_cols(markdown_table, int(formatting_args[1]))\n",
    "markdown_table = table_utils.remove_headers(markdown_table)\n",
    "if formatting_args[0].lower() == \"vertical\":\n",
    "    markdown_table = table_utils.combine_m_and_SD(markdown_table)\n",
    "    markdown_table = table_utils.transpose_markdown_table(markdown_table)\n",
    "markdown_table = table_utils.separate_m_and_SD(markdown_table)\n",
    "for char in formatting_args[2].split(\"|\"):\n",
    "    if char == \"\" or char == \" \":\n",
    "        continue\n",
    "    markdown_table = markdown_table.replace(f\" {char.strip()}\", \"\").replace(f\"{char.strip()}\", \"\")\n",
    "\n",
    "print(markdown_table)"
   ]
  },
  {
   "cell_type": "markdown",
   "id": "202be09e",
   "metadata": {},
   "source": [
    "Extracting methods section from paper and getting prompts for groups and biomarkers"
   ]
  },
  {
   "cell_type": "code",
   "execution_count": null,
   "id": "79590ee3",
   "metadata": {},
   "outputs": [],
   "source": [
    "df = table_utils.markdown_to_dataframe(markdown_table)\n",
    "group_list = df.iloc[:,0].tolist()\n",
    "with open(f\"{PMC}.xml\", \"r\", encoding=\"utf-8\") as file:\n",
    "    paper_xml = file.read()\n",
    "soup = BeautifulSoup(paper_xml, \"lxml-xml\")\n",
    "methods_passages = [p for p in soup.find_all(\"passage\") if p.find(\"infon\", {\"key\": \"section_type\"}) and \n",
    "        p.find(\"infon\", {\"key\": \"section_type\"}).text.strip().upper() == \"METHODS\"]\n",
    "methods_text_list = [p.find(\"text\").get_text() for p in methods_passages if p.find(\"text\")]\n",
    "paper = \"\\n\".join(methods_text_list)\n",
    "with open(f\"{PMC}_text.txt\", \"w\", encoding=\"utf-8\") as file:\n",
    "    file.write(paper)\n",
    "groups_prompt = get_groups_prompt(paper, group_list)\n",
    "biomarkers_prompt = get_biomarker_prompt(paper, markdown_table)"
   ]
  },
  {
   "cell_type": "markdown",
   "id": "731e6f53",
   "metadata": {},
   "source": [
    "API Call"
   ]
  },
  {
   "cell_type": "code",
   "execution_count": null,
   "id": "c2cd8eea",
   "metadata": {},
   "outputs": [],
   "source": [
    "endpoint = os.getenv(\"AZURE_OPENAI_ENDPOINT\")\n",
    "version = os.getenv(\"OPENAI_API_VERSION\")\n",
    "model = os.getenv(\"OPENAI_MODEL\")\n",
    "api_key = os.getenv(\"OPENAI_API_KEY\")\n",
    "\n",
    "url = f\"{endpoint}openai/deployments/{model}/chat/completions?api-version={version}\"\n",
    "print(url)\n",
    "\n",
    "headers = {\n",
    "    \"Content-Type\": \"application/json\",\n",
    "    \"api-key\": api_key,\n",
    "}\n",
    "\n",
    "groups_payload = {\n",
    "    \"messages\": [\n",
    "        {\"role\": \"user\", \"content\": groups_prompt}\n",
    "    ],\n",
    "    \"temperature\": 0,\n",
    "    \"max_tokens\": 1000,\n",
    "}\n",
    "\n",
    "biomarkers_payload = {\n",
    "    \"messages\": [\n",
    "        {\"role\": \"user\", \"content\": biomarkers_prompt}\n",
    "    ],\n",
    "    \"temperature\": 0,\n",
    "    \"max_tokens\": 1000,\n",
    "}\n",
    "\n",
    "#saving as {PMC}\\n---\\n{prompt}\\n---\\n{response}\n",
    "groups_response_json = requests.post(url, headers=headers, json=groups_payload)\n",
    "biomarkers_response_json = requests.post(url, headers=headers, json=biomarkers_payload)\n",
    "time = datetime.now().strftime(\"%Y-%m-%d_%H-%M-%S\")\n",
    "with open(f\"responses/{time}_group.txt\", \"w\", encoding=\"utf-8\") as file:\n",
    "    file.write(f\"{PMC}\\n---\\n{groups_prompt}\\n---\\n{groups_response_json.json()['choices'][0]['message']['content']}\")\n",
    "with open(f\"responses/{time}_biomarkers.txt\", \"w\", encoding=\"utf-8\") as file:\n",
    "    file.write(f\"{PMC}\\n---\\n{biomarkers_prompt}\\n---\\n{biomarkers_response_json.json()['choices'][0]['message']['content']}\")\n",
    "print(groups_response_json.status_code)\n",
    "print(biomarkers_response_json.status_code)"
   ]
  },
  {
   "cell_type": "code",
   "execution_count": null,
   "id": "8d8ea288",
   "metadata": {},
   "outputs": [],
   "source": [
    "groups_response = groups_response_json.json()['choices'][0]['message']['content']\n",
    "biomarkers_response = biomarkers_response_json.json()['choices'][0]['message']['content']\n",
    "print(groups_response)\n",
    "print(\"---\")\n",
    "print(biomarkers_response)\n"
   ]
  },
  {
   "cell_type": "code",
   "execution_count": null,
   "id": "8aaeb568",
   "metadata": {},
   "outputs": [],
   "source": [
    "groups = [group.strip()[1:-1].split(\"|\") for group in groups_response.split(\"\\n\")]\n",
    "biomarkers = [marker.strip()[1:-1].split(\"|\") for marker in biomarkers_response.split(\"\\n\")]\n",
    "max_treatments = int((max(len(group) for group in groups) - 5)/5)\n",
    "final_md = \"| Animal Species | Model Type | Xenograft | Sample Size |\" + \"\".join(f\" Treatment {i+1} | Dose {i+1} | Dose Units {i+1} | Route {i+1} | Frequency {i+1} |\" for i in range(max_treatments)) + \" Terminal Time | Biomarker | System Affected | Numerical Value | Units | Summary Statistic |\\n|\" + \" --- |\" * (10+5*max_treatments) + \"\\n\"\n",
    "group_dict = {group: i for i, group in enumerate(df.iloc[:, 0])}\n",
    "for group in groups:\n",
    "    group_string = \"| \" + group[1] + \" | \" + group[2] + \" | \" + group[3] + \" | \" + group[4] + \" | \"\n",
    "    group_string += \"\".join(group[i] + \" | \" for i in range(5, len(group)))\n",
    "    group_string += \"N/A | \" * (max_treatments*5 - len(group) + 5)\n",
    "    for biomarker in biomarkers:\n",
    "        row = group_string\n",
    "        row += biomarker[1] + \" | \"                                 #terminal time\n",
    "        row += biomarker[2] + \" | \"                                 #biomarker (new_name)\n",
    "        row += biomarker[3] + \" | \"                                 #system affected\n",
    "        row += df.loc[group_dict[group[0]], biomarker[0]]  + \" | \"  #value\n",
    "        row += biomarker[4] + \" | \"                                 #units\n",
    "        row += biomarker[5] + \" |\\n\"                                #summary statistic\n",
    "        final_md += row\n",
    "print(final_md)\n"
   ]
  },
  {
   "cell_type": "markdown",
   "id": "fdd68857",
   "metadata": {},
   "source": [
    "| Animal Species | Model Type | Xenograft | Sample Size | Treatment 1 | Dose 1 | Dose Units 1 | Route 1 | Frequency 1 | Terminal Time | Biomarker | System Affected | Numerical Value | Units | Summary Statistic |\n",
    "| --- | --- | --- | --- | --- | --- | --- | --- | --- | --- | --- | --- | --- | --- | --- |\n",
    "| mouse | BALB/c nude | BT-474 | 4 | PBS | N/A | N/A | iv | N/A | 3 days | Platelet counts | cardiovascular | 697.50 | 10^3/μL | mean |\n",
    "| mouse | BALB/c nude | BT-474 | 4 | PBS | N/A | N/A | iv | N/A | 3 days | Platelet counts | cardiovascular | 64.16 | 10^3/μL | SD |\n",
    "| mouse | BALB/c nude | BT-474 | 4 | PBS | N/A | N/A | iv | N/A | 3 days | Red blood cells | cardiovascular | 8.38 | 10^6/μL | mean |\n",
    "| mouse | BALB/c nude | BT-474 | 4 | PBS | N/A | N/A | iv | N/A | 3 days | Red blood cells | cardiovascular | 0.27 | 10^6/μL | SD |\n",
    "| mouse | BALB/c nude | BT-474 | 4 | PBS | N/A | N/A | iv | N/A | 3 days | Hematocrits | cardiovascular | 45.86 | % | mean |\n",
    "| mouse | BALB/c nude | BT-474 | 4 | PBS | N/A | N/A | iv | N/A | 3 days | Hematocrits | cardiovascular | 2.37 | % | SD |\n",
    "| mouse | BALB/c nude | BT-474 | 4 | PBS | N/A | N/A | iv | N/A | 3 days | Neutrophil absolute | cardiovascular | 0.54 | 10^3/μL | mean |\n",
    "| mouse | BALB/c nude | BT-474 | 4 | PBS | N/A | N/A | iv | N/A | 3 days | Neutrophil absolute | cardiovascular | 0.09 | 10^3/μL | SD |\n",
    "| mouse | BALB/c nude | BT-474 | 4 | PBS | N/A | N/A | iv | N/A | 3 days | Lymphocyte | cardiovascular | 2.22 | 10^3/μL | mean |\n",
    "| mouse | BALB/c nude | BT-474 | 4 | PBS | N/A | N/A | iv | N/A | 3 days | Lymphocyte | cardiovascular | 0.50 | 10^3/μL | SD |\n",
    "| mouse | BALB/c nude | BT-474 | 4 | PBS | N/A | N/A | iv | N/A | 3 days | ALT | digestive | 26.28 | U/L | mean |\n",
    "| mouse | BALB/c nude | BT-474 | 4 | PBS | N/A | N/A | iv | N/A | 3 days | ALT | digestive | 6.33 | U/L | SD |\n",
    "| mouse | BALB/c nude | BT-474 | 4 | PBS | N/A | N/A | iv | N/A | 3 days | AST | digestive | 89.46 | U/L | mean |\n",
    "| mouse | BALB/c nude | BT-474 | 4 | PBS | N/A | N/A | iv | N/A | 3 days | AST | digestive | 17.86 | U/L | SD |\n",
    "| mouse | BALB/c nude | BT-474 | 4 | PBS | N/A | N/A | iv | N/A | 3 days | ALP | digestive | 295.11 | U/L | mean |\n",
    "| mouse | BALB/c nude | BT-474 | 4 | PBS | N/A | N/A | iv | N/A | 3 days | ALP | digestive | 99.65 | U/L | SD |\n",
    "| mouse | BALB/c nude | BT-474 | 4 | PBS | N/A | N/A | iv | N/A | 3 days | GGT | digestive | 4.97 | U/L | mean |\n",
    "| mouse | BALB/c nude | BT-474 | 4 | PBS | N/A | N/A | iv | N/A | 3 days | GGT | digestive | 1.00 | U/L | SD |\n",
    "| mouse | BALB/c nude | BT-474 | 4 | PBS | N/A | N/A | iv | N/A | 3 days | Total bilirubin | digestive | 0.06 | U/L | mean |\n",
    "| mouse | BALB/c nude | BT-474 | 4 | PBS | N/A | N/A | iv | N/A | 3 days | Total bilirubin | digestive | 0.03 | U/L | SD |\n",
    "| mouse | BALB/c nude | BT-474 | 4 | DM1 | 60 | mug/kg | iv | three times every three days | 3 days | Platelet counts | cardiovascular | 632.40 | 10^3/μL | mean |\n",
    "| mouse | BALB/c nude | BT-474 | 4 | DM1 | 60 | mug/kg | iv | three times every three days | 3 days | Platelet counts | cardiovascular | 101.64 | 10^3/μL | SD |\n",
    "| mouse | BALB/c nude | BT-474 | 4 | DM1 | 60 | mug/kg | iv | three times every three days | 3 days | Red blood cells | cardiovascular | 8.08 | 10^6/μL | mean |\n",
    "| mouse | BALB/c nude | BT-474 | 4 | DM1 | 60 | mug/kg | iv | three times every three days | 3 days | Red blood cells | cardiovascular | 0.35 | 10^6/μL | SD |\n",
    "| mouse | BALB/c nude | BT-474 | 4 | DM1 | 60 | mug/kg | iv | three times every three days | 3 days | Hematocrits | cardiovascular | 46.38 | % | mean |\n",
    "| mouse | BALB/c nude | BT-474 | 4 | DM1 | 60 | mug/kg | iv | three times every three days | 3 days | Hematocrits | cardiovascular | 1.41 | % | SD |\n",
    "| mouse | BALB/c nude | BT-474 | 4 | DM1 | 60 | mug/kg | iv | three times every three days | 3 days | Neutrophil absolute | cardiovascular | 0.37 | 10^3/μL | mean |\n",
    "| mouse | BALB/c nude | BT-474 | 4 | DM1 | 60 | mug/kg | iv | three times every three days | 3 days | Neutrophil absolute | cardiovascular | 0.15 | 10^3/μL | SD |\n",
    "| mouse | BALB/c nude | BT-474 | 4 | DM1 | 60 | mug/kg | iv | three times every three days | 3 days | Lymphocyte | cardiovascular | 1.78 | 10^3/μL | mean |\n",
    "| mouse | BALB/c nude | BT-474 | 4 | DM1 | 60 | mug/kg | iv | three times every three days | 3 days | Lymphocyte | cardiovascular | 0.89 | 10^3/μL | SD |\n",
    "| mouse | BALB/c nude | BT-474 | 4 | DM1 | 60 | mug/kg | iv | three times every three days | 3 days | ALT | digestive | 32.29 | U/L | mean |\n",
    "| mouse | BALB/c nude | BT-474 | 4 | DM1 | 60 | mug/kg | iv | three times every three days | 3 days | ALT | digestive | 14.33 | U/L | SD |\n",
    "| mouse | BALB/c nude | BT-474 | 4 | DM1 | 60 | mug/kg | iv | three times every three days | 3 days | AST | digestive | 89.20 | U/L | mean |\n",
    "| mouse | BALB/c nude | BT-474 | 4 | DM1 | 60 | mug/kg | iv | three times every three days | 3 days | AST | digestive | 11.66 | U/L | SD |\n",
    "| mouse | BALB/c nude | BT-474 | 4 | DM1 | 60 | mug/kg | iv | three times every three days | 3 days | ALP | digestive | 292.01 | U/L | mean |\n",
    "| mouse | BALB/c nude | BT-474 | 4 | DM1 | 60 | mug/kg | iv | three times every three days | 3 days | ALP | digestive | 84.44 | U/L | SD |\n",
    "| mouse | BALB/c nude | BT-474 | 4 | DM1 | 60 | mug/kg | iv | three times every three days | 3 days | GGT | digestive | 7.02 | U/L | mean |\n",
    "| mouse | BALB/c nude | BT-474 | 4 | DM1 | 60 | mug/kg | iv | three times every three days | 3 days | GGT | digestive | 2.11 | U/L | SD |\n",
    "| mouse | BALB/c nude | BT-474 | 4 | DM1 | 60 | mug/kg | iv | three times every three days | 3 days | Total bilirubin | digestive | 0.07 | U/L | mean |\n",
    "| mouse | BALB/c nude | BT-474 | 4 | DM1 | 60 | mug/kg | iv | three times every three days | 3 days | Total bilirubin | digestive | 0.03 | U/L | SD |\n",
    "| mouse | BALB/c nude | BT-474 | 4 | ApDC | 3.85 | mg/kg | iv | three times every three days | 3 days | Platelet counts | cardiovascular | 425.33 | 10^3/μL | mean |\n",
    "| mouse | BALB/c nude | BT-474 | 4 | ApDC | 3.85 | mg/kg | iv | three times every three days | 3 days | Platelet counts | cardiovascular | 66.11 | 10^3/μL | SD |\n",
    "| mouse | BALB/c nude | BT-474 | 4 | ApDC | 3.85 | mg/kg | iv | three times every three days | 3 days | Red blood cells | cardiovascular | 7.69 | 10^6/μL | mean |\n",
    "| mouse | BALB/c nude | BT-474 | 4 | ApDC | 3.85 | mg/kg | iv | three times every three days | 3 days | Red blood cells | cardiovascular | 0.34 | 10^6/μL | SD |\n",
    "| mouse | BALB/c nude | BT-474 | 4 | ApDC | 3.85 | mg/kg | iv | three times every three days | 3 days | Hematocrits | cardiovascular | 43.17 | % | mean |\n",
    "| mouse | BALB/c nude | BT-474 | 4 | ApDC | 3.85 | mg/kg | iv | three times every three days | 3 days | Hematocrits | cardiovascular | 1.20 | % | SD |\n",
    "| mouse | BALB/c nude | BT-474 | 4 | ApDC | 3.85 | mg/kg | iv | three times every three days | 3 days | Neutrophil absolute | cardiovascular | 0.31 | 10^3/μL | mean |\n",
    "| mouse | BALB/c nude | BT-474 | 4 | ApDC | 3.85 | mg/kg | iv | three times every three days | 3 days | Neutrophil absolute | cardiovascular | 0.11 | 10^3/μL | SD |\n",
    "| mouse | BALB/c nude | BT-474 | 4 | ApDC | 3.85 | mg/kg | iv | three times every three days | 3 days | Lymphocyte | cardiovascular | 1.55 | 10^3/μL | mean |\n",
    "| mouse | BALB/c nude | BT-474 | 4 | ApDC | 3.85 | mg/kg | iv | three times every three days | 3 days | Lymphocyte | cardiovascular | 0.18 | 10^3/μL | SD |\n",
    "| mouse | BALB/c nude | BT-474 | 4 | ApDC | 3.85 | mg/kg | iv | three times every three days | 3 days | ALT | digestive | 42.93 | U/L | mean |\n",
    "| mouse | BALB/c nude | BT-474 | 4 | ApDC | 3.85 | mg/kg | iv | three times every three days | 3 days | ALT | digestive | 14.86 | U/L | SD |\n",
    "| mouse | BALB/c nude | BT-474 | 4 | ApDC | 3.85 | mg/kg | iv | three times every three days | 3 days | AST | digestive | 95.35 | U/L | mean |\n",
    "| mouse | BALB/c nude | BT-474 | 4 | ApDC | 3.85 | mg/kg | iv | three times every three days | 3 days | AST | digestive | 20.89 | U/L | SD |\n",
    "| mouse | BALB/c nude | BT-474 | 4 | ApDC | 3.85 | mg/kg | iv | three times every three days | 3 days | ALP | digestive | 211.76 | U/L | mean |\n",
    "| mouse | BALB/c nude | BT-474 | 4 | ApDC | 3.85 | mg/kg | iv | three times every three days | 3 days | ALP | digestive | 44.13 | U/L | SD |\n",
    "| mouse | BALB/c nude | BT-474 | 4 | ApDC | 3.85 | mg/kg | iv | three times every three days | 3 days | GGT | digestive | 6.28 | U/L | mean |\n",
    "| mouse | BALB/c nude | BT-474 | 4 | ApDC | 3.85 | mg/kg | iv | three times every three days | 3 days | GGT | digestive | 3.67 | U/L | SD |\n",
    "| mouse | BALB/c nude | BT-474 | 4 | ApDC | 3.85 | mg/kg | iv | three times every three days | 3 days | Total bilirubin | digestive | 0.07 | U/L | mean |\n",
    "| mouse | BALB/c nude | BT-474 | 4 | ApDC | 3.85 | mg/kg | iv | three times every three days | 3 days | Total bilirubin | digestive | 0.02 | U/L | SD |\n",
    "\n"
   ]
  },
  {
   "cell_type": "code",
   "execution_count": 3,
   "id": "661a2de6",
   "metadata": {},
   "outputs": [
    {
     "name": "stdout",
     "output_type": "stream",
     "text": [
      "<?xml version=\"1.0\" encoding=\"UTF-8\" ?>\n",
      "<!DOCTYPE eSearchResult PUBLIC \"-//NLM//DTD esearch 20060628//EN\" \"https://eutils.ncbi.nlm.nih.gov/eutils/dtd/20060628/esearch.dtd\">\n",
      "<eSearchResult><Count>621336</Count><RetMax>20</RetMax><RetStart>0</RetStart><IdList>\n",
      "<Id>12146008</Id>\n",
      "<Id>12145789</Id>\n",
      "<Id>12145714</Id>\n",
      "<Id>12145685</Id>\n",
      "<Id>12145684</Id>\n",
      "<Id>12145683</Id>\n",
      "<Id>12145650</Id>\n",
      "<Id>12145632</Id>\n",
      "<Id>12145630</Id>\n",
      "<Id>12145566</Id>\n",
      "<Id>12145554</Id>\n",
      "<Id>12145550</Id>\n",
      "<Id>12145548</Id>\n",
      "<Id>12145523</Id>\n",
      "<Id>12145454</Id>\n",
      "<Id>12145382</Id>\n",
      "<Id>12145366</Id>\n",
      "<Id>12145298</Id>\n",
      "<Id>11947877</Id>\n",
      "<Id>12145212</Id>\n",
      "</IdList><TranslationSet><Translation>     <From>animal</From>     <To>\"animals\"[MeSH Terms:noexp] OR animal[All Fields]</To>    </Translation><Translation>     <From>toxicity</From>     <To>\"toxicity\"[Subheading] OR \"toxicity\"[All Fields]</To>    </Translation></TranslationSet><TranslationStack>   <TermSet>    <Term>\"animals\"[MeSH Terms:noexp]</Term>    <Field>MeSH Terms</Field>    <Count>1712469</Count>    <Explode>N</Explode>   </TermSet>   <TermSet>    <Term>animal[All Fields]</Term>    <Field>All Fields</Field>    <Count>2715973</Count>    <Explode>N</Explode>   </TermSet>   <OP>OR</OP>   <OP>GROUP</OP>   <TermSet>    <Term>\"toxicity\"[Subheading]</Term>    <Field>Subheading</Field>    <Count>82238</Count>    <Explode>Y</Explode>   </TermSet>   <TermSet>    <Term>\"toxicity\"[All Fields]</Term>    <Field>All Fields</Field>    <Count>1196157</Count>    <Explode>N</Explode>   </TermSet>   <OP>OR</OP>   <OP>GROUP</OP>   <OP>AND</OP>   <OP>GROUP</OP>  </TranslationStack><QueryTranslation>(\"animals\"[MeSH Terms:noexp] OR animal[All Fields]) AND (\"toxicity\"[Subheading] OR \"toxicity\"[All Fields])</QueryTranslation></eSearchResult>\n",
      "\n"
     ]
    }
   ],
   "source": [
    "query = f\"https://eutils.ncbi.nlm.nih.gov/entrez/eutils/esearch.fcgi?db=pmc&term=animal%20toxicity\"\n",
    "response = requests.get(query)\n",
    "print(response.text)\n"
   ]
  },
  {
   "cell_type": "code",
   "execution_count": null,
   "id": "1c330682",
   "metadata": {},
   "outputs": [],
   "source": []
  }
 ],
 "metadata": {
  "kernelspec": {
   "display_name": "env",
   "language": "python",
   "name": "python3"
  },
  "language_info": {
   "codemirror_mode": {
    "name": "ipython",
    "version": 3
   },
   "file_extension": ".py",
   "mimetype": "text/x-python",
   "name": "python",
   "nbconvert_exporter": "python",
   "pygments_lexer": "ipython3",
   "version": "3.12.10"
  }
 },
 "nbformat": 4,
 "nbformat_minor": 5
}
